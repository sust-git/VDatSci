{
 "cells": [
  {
   "cell_type": "markdown",
   "id": "adf94902",
   "metadata": {},
   "source": [
    "# 1D Array: `array_name[start:stop:step]` (Similar to Python list)\n",
    "\n",
    "# 2D Array: `array_name[row_idx, col_idx]` (Similar to Matrix)\n",
    "\n",
    "# ND Array: `array_name[dim1_idx, dim2_idx, ..., dimN_idx]`"
   ]
  },
  {
   "cell_type": "code",
   "execution_count": 2,
   "id": "78a6e6cd",
   "metadata": {},
   "outputs": [],
   "source": [
    "# similar to python list"
   ]
  },
  {
   "cell_type": "code",
   "execution_count": 4,
   "id": "e7ac83a0",
   "metadata": {},
   "outputs": [],
   "source": [
    "list1 = [1,2,3,4]"
   ]
  },
  {
   "cell_type": "code",
   "execution_count": 5,
   "id": "979d653c",
   "metadata": {},
   "outputs": [
    {
     "data": {
      "text/plain": [
       "[2, 3]"
      ]
     },
     "execution_count": 5,
     "metadata": {},
     "output_type": "execute_result"
    }
   ],
   "source": [
    "list1[1:3]"
   ]
  },
  {
   "cell_type": "code",
   "execution_count": null,
   "id": "1dea691d",
   "metadata": {},
   "outputs": [],
   "source": []
  },
  {
   "cell_type": "code",
   "execution_count": null,
   "id": "c3d29f61",
   "metadata": {},
   "outputs": [],
   "source": []
  },
  {
   "cell_type": "code",
   "execution_count": 9,
   "id": "3807873f",
   "metadata": {},
   "outputs": [],
   "source": [
    "import numpy as np"
   ]
  },
  {
   "cell_type": "markdown",
   "id": "07f2bd2b",
   "metadata": {},
   "source": [
    "# One Dimensional Array"
   ]
  },
  {
   "cell_type": "code",
   "execution_count": 6,
   "id": "b34b7b35",
   "metadata": {},
   "outputs": [],
   "source": [
    "list1 = [1,2,3,4,5,6,7,8]"
   ]
  },
  {
   "cell_type": "code",
   "execution_count": 7,
   "id": "824af1ba",
   "metadata": {},
   "outputs": [
    {
     "data": {
      "text/plain": [
       "[2, 4, 6]"
      ]
     },
     "execution_count": 7,
     "metadata": {},
     "output_type": "execute_result"
    }
   ],
   "source": [
    "list1[1:7:2]"
   ]
  },
  {
   "cell_type": "code",
   "execution_count": 10,
   "id": "6307f49e",
   "metadata": {},
   "outputs": [],
   "source": [
    "array1 = np.array(list1)"
   ]
  },
  {
   "cell_type": "code",
   "execution_count": 11,
   "id": "f9635032",
   "metadata": {},
   "outputs": [
    {
     "data": {
      "text/plain": [
       "array([2, 4, 6])"
      ]
     },
     "execution_count": 11,
     "metadata": {},
     "output_type": "execute_result"
    }
   ],
   "source": [
    "array1[1:7:2]"
   ]
  },
  {
   "cell_type": "code",
   "execution_count": null,
   "id": "4a6b70d1",
   "metadata": {},
   "outputs": [],
   "source": []
  },
  {
   "cell_type": "code",
   "execution_count": null,
   "id": "511fc83c",
   "metadata": {},
   "outputs": [],
   "source": []
  },
  {
   "cell_type": "markdown",
   "id": "d4a8b709",
   "metadata": {},
   "source": [
    "# Multi Dimensional"
   ]
  },
  {
   "cell_type": "code",
   "execution_count": 9,
   "id": "cca72a35",
   "metadata": {},
   "outputs": [],
   "source": [
    "list2 = [[1, 2, 3, 4, 5, 6, 7, 8], [1, 3, 5 , 7, 9, 11 , 13, 15]]"
   ]
  },
  {
   "cell_type": "code",
   "execution_count": 13,
   "id": "42727e73",
   "metadata": {},
   "outputs": [
    {
     "data": {
      "text/plain": [
       "[6, 7, 8]"
      ]
     },
     "execution_count": 13,
     "metadata": {},
     "output_type": "execute_result"
    }
   ],
   "source": [
    "list2[0][5:]\n",
    "\n",
    "# list2[0][5:8] last item narakne indexing ma"
   ]
  },
  {
   "cell_type": "code",
   "execution_count": 14,
   "id": "e8c01d4e",
   "metadata": {},
   "outputs": [],
   "source": [
    "array2 = np.array(list2)"
   ]
  },
  {
   "cell_type": "code",
   "execution_count": 15,
   "id": "cd7988ef",
   "metadata": {},
   "outputs": [
    {
     "data": {
      "text/plain": [
       "array([6, 7, 8])"
      ]
     },
     "execution_count": 15,
     "metadata": {},
     "output_type": "execute_result"
    }
   ],
   "source": [
    "array2[0][5:]"
   ]
  },
  {
   "cell_type": "code",
   "execution_count": 18,
   "id": "230d2862",
   "metadata": {},
   "outputs": [
    {
     "data": {
      "text/plain": [
       "array([6, 7, 8])"
      ]
     },
     "execution_count": 18,
     "metadata": {},
     "output_type": "execute_result"
    }
   ],
   "source": [
    "array2[0, 5:]"
   ]
  },
  {
   "cell_type": "code",
   "execution_count": 19,
   "id": "9dc95f66",
   "metadata": {},
   "outputs": [
    {
     "data": {
      "text/plain": [
       "array([[ 1,  2,  3,  4,  5,  6,  7,  8],\n",
       "       [ 1,  3,  5,  7,  9, 11, 13, 15]])"
      ]
     },
     "execution_count": 19,
     "metadata": {},
     "output_type": "execute_result"
    }
   ],
   "source": [
    "array2"
   ]
  },
  {
   "cell_type": "code",
   "execution_count": 20,
   "id": "7723f542",
   "metadata": {},
   "outputs": [],
   "source": [
    "# 2,3,4\n",
    "# 3,5,7"
   ]
  },
  {
   "cell_type": "code",
   "execution_count": 22,
   "id": "bb2dd8cb",
   "metadata": {},
   "outputs": [
    {
     "data": {
      "text/plain": [
       "array([2, 3, 4])"
      ]
     },
     "execution_count": 22,
     "metadata": {},
     "output_type": "execute_result"
    }
   ],
   "source": [
    "array2[0,1:4 ]"
   ]
  },
  {
   "cell_type": "code",
   "execution_count": 23,
   "id": "01468f74",
   "metadata": {},
   "outputs": [
    {
     "data": {
      "text/plain": [
       "array([[2, 3, 4],\n",
       "       [3, 5, 7]])"
      ]
     },
     "execution_count": 23,
     "metadata": {},
     "output_type": "execute_result"
    }
   ],
   "source": [
    "array2[:, 1:4]"
   ]
  },
  {
   "cell_type": "code",
   "execution_count": 30,
   "id": "5f539e67",
   "metadata": {},
   "outputs": [
    {
     "data": {
      "text/plain": [
       "array([1, 1])"
      ]
     },
     "execution_count": 30,
     "metadata": {},
     "output_type": "execute_result"
    }
   ],
   "source": [
    "array2[(0,1), [0]]"
   ]
  },
  {
   "cell_type": "code",
   "execution_count": 31,
   "id": "8d1ccc73",
   "metadata": {},
   "outputs": [
    {
     "data": {
      "text/plain": [
       "array([[ 1,  2,  3,  4,  5,  6,  7,  8],\n",
       "       [ 1,  3,  5,  7,  9, 11, 13, 15]])"
      ]
     },
     "execution_count": 31,
     "metadata": {},
     "output_type": "execute_result"
    }
   ],
   "source": [
    "array2"
   ]
  },
  {
   "cell_type": "code",
   "execution_count": 46,
   "id": "98188fe9",
   "metadata": {},
   "outputs": [
    {
     "data": {
      "text/plain": [
       "array([[ 2,  4,  6,  8],\n",
       "       [ 3,  7, 11, 15]])"
      ]
     },
     "execution_count": 46,
     "metadata": {},
     "output_type": "execute_result"
    }
   ],
   "source": [
    "array2[:, 1::2]\n",
    "\n",
    "# [start:stop:step] "
   ]
  },
  {
   "cell_type": "code",
   "execution_count": null,
   "id": "d3779e1f",
   "metadata": {},
   "outputs": [],
   "source": []
  },
  {
   "cell_type": "code",
   "execution_count": 49,
   "id": "1383c70c",
   "metadata": {},
   "outputs": [],
   "source": [
    "list3 = [[1, 2, 3, 4, 5, 6, 7, 8], [1, 3, 5 , 7, 9, 11 , 13, 15],[15, 25, 9999, 376, 19, 420, 786,555]]"
   ]
  },
  {
   "cell_type": "code",
   "execution_count": 51,
   "id": "5c564980",
   "metadata": {},
   "outputs": [],
   "source": [
    "array3 = np.array(list3)"
   ]
  },
  {
   "cell_type": "code",
   "execution_count": 52,
   "id": "bfd11b75",
   "metadata": {},
   "outputs": [
    {
     "data": {
      "text/plain": [
       "array([[   1,    2,    3,    4,    5,    6,    7,    8],\n",
       "       [   1,    3,    5,    7,    9,   11,   13,   15],\n",
       "       [  15,   25, 9999,  376,   19,  420,  786,  555]])"
      ]
     },
     "execution_count": 52,
     "metadata": {},
     "output_type": "execute_result"
    }
   ],
   "source": [
    "array3"
   ]
  },
  {
   "cell_type": "code",
   "execution_count": 65,
   "id": "3221a4b6",
   "metadata": {},
   "outputs": [
    {
     "data": {
      "text/plain": [
       "array([[  9,  11,  13],\n",
       "       [ 19, 420, 786]])"
      ]
     },
     "execution_count": 65,
     "metadata": {},
     "output_type": "execute_result"
    }
   ],
   "source": [
    "array3[1:, 4:7]\n",
    "\n",
    "# start:stop:step"
   ]
  },
  {
   "cell_type": "code",
   "execution_count": 67,
   "id": "b0900bd1",
   "metadata": {},
   "outputs": [
    {
     "data": {
      "text/plain": [
       "2"
      ]
     },
     "execution_count": 67,
     "metadata": {},
     "output_type": "execute_result"
    }
   ],
   "source": [
    "array3.ndim"
   ]
  },
  {
   "cell_type": "code",
   "execution_count": 69,
   "id": "00a487a2",
   "metadata": {},
   "outputs": [
    {
     "data": {
      "text/plain": [
       "(3, 8)"
      ]
     },
     "execution_count": 69,
     "metadata": {},
     "output_type": "execute_result"
    }
   ],
   "source": [
    "array3.shape"
   ]
  },
  {
   "cell_type": "code",
   "execution_count": 72,
   "id": "781565c3",
   "metadata": {},
   "outputs": [
    {
     "data": {
      "text/plain": [
       "3"
      ]
     },
     "execution_count": 72,
     "metadata": {},
     "output_type": "execute_result"
    }
   ],
   "source": [
    "array3.shape[0]"
   ]
  },
  {
   "cell_type": "code",
   "execution_count": 73,
   "id": "c2402c21",
   "metadata": {},
   "outputs": [
    {
     "data": {
      "text/plain": [
       "array([[   1,    2,    3,    4,    5,    6,    7,    8],\n",
       "       [   1,    3,    5,    7,    9,   11,   13,   15],\n",
       "       [  15,   25, 9999,  376,   19,  420,  786,  555]])"
      ]
     },
     "execution_count": 73,
     "metadata": {},
     "output_type": "execute_result"
    }
   ],
   "source": [
    "array3"
   ]
  },
  {
   "cell_type": "code",
   "execution_count": 80,
   "id": "ea2c9855",
   "metadata": {},
   "outputs": [],
   "source": [
    "list4 = [[[1, 2, 3, 4], [5, 6, 7, 8]], [[1, 3, 5 , 7], [9, 11 , 13, 15]],[[15, 25, 9999, 376], [19, 420, 786,555]]]\n",
    "\n"
   ]
  },
  {
   "cell_type": "code",
   "execution_count": 81,
   "id": "6fbed550",
   "metadata": {},
   "outputs": [],
   "source": [
    "array4 = np.array(list4)"
   ]
  },
  {
   "cell_type": "code",
   "execution_count": 82,
   "id": "5a1984fd",
   "metadata": {},
   "outputs": [
    {
     "data": {
      "text/plain": [
       "array([[[   1,    2,    3,    4],\n",
       "        [   5,    6,    7,    8]],\n",
       "\n",
       "       [[   1,    3,    5,    7],\n",
       "        [   9,   11,   13,   15]],\n",
       "\n",
       "       [[  15,   25, 9999,  376],\n",
       "        [  19,  420,  786,  555]]])"
      ]
     },
     "execution_count": 82,
     "metadata": {},
     "output_type": "execute_result"
    }
   ],
   "source": [
    "array4"
   ]
  },
  {
   "cell_type": "code",
   "execution_count": 83,
   "id": "e9c75a98",
   "metadata": {},
   "outputs": [
    {
     "data": {
      "text/plain": [
       "3"
      ]
     },
     "execution_count": 83,
     "metadata": {},
     "output_type": "execute_result"
    }
   ],
   "source": [
    "array4.ndim"
   ]
  },
  {
   "cell_type": "code",
   "execution_count": 84,
   "id": "8a26227d",
   "metadata": {},
   "outputs": [
    {
     "data": {
      "text/plain": [
       "(3, 2, 4)"
      ]
     },
     "execution_count": 84,
     "metadata": {},
     "output_type": "execute_result"
    }
   ],
   "source": [
    "array4.shape"
   ]
  },
  {
   "cell_type": "code",
   "execution_count": 85,
   "id": "542092f2",
   "metadata": {},
   "outputs": [
    {
     "ename": "SyntaxError",
     "evalue": "invalid decimal literal (2764812581.py, line 3)",
     "output_type": "error",
     "traceback": [
      "\u001b[1;36m  Cell \u001b[1;32mIn[85], line 3\u001b[1;36m\u001b[0m\n\u001b[1;33m    1d ko slice 1d le nai garnu parxa\u001b[0m\n\u001b[1;37m    ^\u001b[0m\n\u001b[1;31mSyntaxError\u001b[0m\u001b[1;31m:\u001b[0m invalid decimal literal\n"
     ]
    }
   ],
   "source": [
    "# list ko slice list nai huna parxa\n",
    "# matrix ko ....\n",
    "# 1d ko slice 1d le nai garnu parxa\n",
    "# 2d ko ....\n",
    "# 3d ko ......"
   ]
  },
  {
   "cell_type": "code",
   "execution_count": null,
   "id": "7d5dc176",
   "metadata": {},
   "outputs": [],
   "source": []
  }
 ],
 "metadata": {
  "kernelspec": {
   "display_name": "Python 3 (ipykernel)",
   "language": "python",
   "name": "python3"
  },
  "language_info": {
   "codemirror_mode": {
    "name": "ipython",
    "version": 3
   },
   "file_extension": ".py",
   "mimetype": "text/x-python",
   "name": "python",
   "nbconvert_exporter": "python",
   "pygments_lexer": "ipython3",
   "version": "3.10.7"
  }
 },
 "nbformat": 4,
 "nbformat_minor": 5
}
