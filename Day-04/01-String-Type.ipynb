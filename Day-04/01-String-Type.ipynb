{
 "cells": [
  {
   "cell_type": "markdown",
   "id": "ae29336a",
   "metadata": {},
   "source": [
    "# Text Type"
   ]
  },
  {
   "cell_type": "code",
   "execution_count": 4,
   "id": "38eff2a1",
   "metadata": {},
   "outputs": [],
   "source": [
    "a = 'Hello'\n",
    "b = 'World'"
   ]
  },
  {
   "cell_type": "code",
   "execution_count": 3,
   "id": "98e55c79",
   "metadata": {},
   "outputs": [
    {
     "data": {
      "text/plain": [
       "str"
      ]
     },
     "execution_count": 3,
     "metadata": {},
     "output_type": "execute_result"
    }
   ],
   "source": [
    "type(a)"
   ]
  },
  {
   "cell_type": "code",
   "execution_count": 4,
   "id": "918d2589",
   "metadata": {},
   "outputs": [
    {
     "data": {
      "text/plain": [
       "str"
      ]
     },
     "execution_count": 4,
     "metadata": {},
     "output_type": "execute_result"
    }
   ],
   "source": [
    "type(b)"
   ]
  },
  {
   "cell_type": "code",
   "execution_count": 5,
   "id": "5d2ef04c",
   "metadata": {},
   "outputs": [
    {
     "data": {
      "text/plain": [
       "'World'"
      ]
     },
     "execution_count": 5,
     "metadata": {},
     "output_type": "execute_result"
    }
   ],
   "source": [
    "a\n",
    "b"
   ]
  },
  {
   "cell_type": "code",
   "execution_count": 6,
   "id": "9fdea93c",
   "metadata": {},
   "outputs": [
    {
     "name": "stdout",
     "output_type": "stream",
     "text": [
      "Hello\n",
      "World\n"
     ]
    }
   ],
   "source": [
    "print(a)\n",
    "print(b)"
   ]
  },
  {
   "cell_type": "code",
   "execution_count": 8,
   "id": "1389f6c7",
   "metadata": {},
   "outputs": [
    {
     "name": "stdout",
     "output_type": "stream",
     "text": [
      "<class 'str'>\n",
      "<class 'str'>\n"
     ]
    }
   ],
   "source": [
    "print(type(a))\n",
    "print(type(b))"
   ]
  },
  {
   "cell_type": "markdown",
   "id": "eb9735bf",
   "metadata": {},
   "source": [
    "# String Concatenation"
   ]
  },
  {
   "cell_type": "code",
   "execution_count": 9,
   "id": "9e147b52",
   "metadata": {},
   "outputs": [
    {
     "data": {
      "text/plain": [
       "'HelloWorld'"
      ]
     },
     "execution_count": 9,
     "metadata": {},
     "output_type": "execute_result"
    }
   ],
   "source": [
    "# +\n",
    "a + b"
   ]
  },
  {
   "cell_type": "code",
   "execution_count": 10,
   "id": "c4702937",
   "metadata": {},
   "outputs": [
    {
     "data": {
      "text/plain": [
       "('Hello', 'World')"
      ]
     },
     "execution_count": 10,
     "metadata": {},
     "output_type": "execute_result"
    }
   ],
   "source": [
    "# ,\n",
    "a , b"
   ]
  },
  {
   "cell_type": "code",
   "execution_count": 11,
   "id": "7b812194",
   "metadata": {},
   "outputs": [
    {
     "name": "stdout",
     "output_type": "stream",
     "text": [
      "Hello World\n"
     ]
    }
   ],
   "source": [
    "print(a,b)\n",
    "\n",
    "# its result will automatically add a space in every comma (,) it encounters"
   ]
  },
  {
   "cell_type": "code",
   "execution_count": 12,
   "id": "6d2b553c",
   "metadata": {},
   "outputs": [
    {
     "name": "stdout",
     "output_type": "stream",
     "text": [
      "Hello World Bane\n"
     ]
    }
   ],
   "source": [
    "c = 'Bane'\n",
    "print(a, b, c)"
   ]
  },
  {
   "cell_type": "markdown",
   "id": "45dd5eed",
   "metadata": {},
   "source": [
    "# String Methods"
   ]
  },
  {
   "cell_type": "code",
   "execution_count": 140,
   "id": "f2ff6e0a",
   "metadata": {},
   "outputs": [],
   "source": [
    "a = \"Hello hi\""
   ]
  },
  {
   "cell_type": "code",
   "execution_count": 104,
   "id": "9c90b67d",
   "metadata": {},
   "outputs": [
    {
     "data": {
      "text/plain": [
       "'hello hi'"
      ]
     },
     "execution_count": 104,
     "metadata": {},
     "output_type": "execute_result"
    }
   ],
   "source": [
    "a.lower()"
   ]
  },
  {
   "cell_type": "code",
   "execution_count": 105,
   "id": "4fd43a5f",
   "metadata": {},
   "outputs": [
    {
     "data": {
      "text/plain": [
       "'HELLO HI'"
      ]
     },
     "execution_count": 105,
     "metadata": {},
     "output_type": "execute_result"
    }
   ],
   "source": [
    "a.upper()"
   ]
  },
  {
   "cell_type": "code",
   "execution_count": 73,
   "id": "03feeabc",
   "metadata": {},
   "outputs": [],
   "source": [
    "a = 'Hellomello'"
   ]
  },
  {
   "cell_type": "code",
   "execution_count": 12,
   "id": "157e8824",
   "metadata": {},
   "outputs": [
    {
     "data": {
      "text/plain": [
       "4"
      ]
     },
     "execution_count": 12,
     "metadata": {},
     "output_type": "execute_result"
    }
   ],
   "source": [
    "a.index('o')\n",
    "\n",
    "# res: character baata indexing nikalne\n",
    "# indexing starts from 0"
   ]
  },
  {
   "cell_type": "code",
   "execution_count": null,
   "id": "42481b60",
   "metadata": {},
   "outputs": [],
   "source": []
  },
  {
   "cell_type": "code",
   "execution_count": 16,
   "id": "46679c45",
   "metadata": {},
   "outputs": [
    {
     "data": {
      "text/plain": [
       "'Today Is A Good Day'"
      ]
     },
     "execution_count": 16,
     "metadata": {},
     "output_type": "execute_result"
    }
   ],
   "source": [
    "d = \"today is a good day\"\n",
    "d.title()\n",
    "\n",
    "# result: every beginning of the word will be in capital"
   ]
  },
  {
   "cell_type": "code",
   "execution_count": null,
   "id": "85a142b2",
   "metadata": {},
   "outputs": [],
   "source": []
  },
  {
   "cell_type": "code",
   "execution_count": 180,
   "id": "1037e635",
   "metadata": {},
   "outputs": [],
   "source": [
    "# replace "
   ]
  },
  {
   "cell_type": "code",
   "execution_count": 181,
   "id": "2d6a5886",
   "metadata": {},
   "outputs": [
    {
     "data": {
      "text/plain": [
       "'Hello zi'"
      ]
     },
     "execution_count": 181,
     "metadata": {},
     "output_type": "execute_result"
    }
   ],
   "source": [
    "a = \"Hello hi\"\n",
    "a.replace('h', 'z')\n",
    "\n",
    "# syntax:\n",
    "# replace('old_value', 'new_value')\n",
    "\n",
    "# res: case sensitive raixa"
   ]
  },
  {
   "cell_type": "code",
   "execution_count": 182,
   "id": "92515125",
   "metadata": {},
   "outputs": [
    {
     "data": {
      "text/plain": [
       "'He88o hi'"
      ]
     },
     "execution_count": 182,
     "metadata": {},
     "output_type": "execute_result"
    }
   ],
   "source": [
    "a.replace('l', '8')\n",
    "\n",
    "# res: both replace hune raixa. Python has updated. Before, it used to update only first letter"
   ]
  },
  {
   "cell_type": "code",
   "execution_count": 129,
   "id": "0a6f84ef",
   "metadata": {},
   "outputs": [],
   "source": [
    "# euta matra slicing garnu paryo vane"
   ]
  },
  {
   "cell_type": "code",
   "execution_count": 184,
   "id": "b562dd88",
   "metadata": {},
   "outputs": [],
   "source": [
    "a = 'Hello'"
   ]
  },
  {
   "cell_type": "code",
   "execution_count": 192,
   "id": "8fac8431",
   "metadata": {},
   "outputs": [
    {
     "data": {
      "text/plain": [
       "'Heilo'"
      ]
     },
     "execution_count": 192,
     "metadata": {},
     "output_type": "execute_result"
    }
   ],
   "source": [
    "a.replace('l', 'i', 1)"
   ]
  },
  {
   "cell_type": "code",
   "execution_count": 188,
   "id": "4b3b27ef",
   "metadata": {},
   "outputs": [
    {
     "data": {
      "text/plain": [
       "'Heiio'"
      ]
     },
     "execution_count": 188,
     "metadata": {},
     "output_type": "execute_result"
    }
   ],
   "source": [
    "a.replace('l', 'i', 2)"
   ]
  },
  {
   "cell_type": "code",
   "execution_count": 189,
   "id": "39072fb7",
   "metadata": {},
   "outputs": [],
   "source": [
    "# Here, 1,2 are no. of times"
   ]
  },
  {
   "cell_type": "code",
   "execution_count": null,
   "id": "42ab5e7f",
   "metadata": {},
   "outputs": [],
   "source": []
  },
  {
   "cell_type": "code",
   "execution_count": 190,
   "id": "1f1ef8b7",
   "metadata": {},
   "outputs": [],
   "source": [
    "# paxadi ko 'i' lai matra replace chai kasari garne"
   ]
  },
  {
   "cell_type": "code",
   "execution_count": null,
   "id": "ba238e0d",
   "metadata": {},
   "outputs": [],
   "source": [
    "# ?"
   ]
  },
  {
   "cell_type": "code",
   "execution_count": null,
   "id": "db1e0794",
   "metadata": {},
   "outputs": [],
   "source": []
  },
  {
   "cell_type": "code",
   "execution_count": 145,
   "id": "fc74efd8",
   "metadata": {},
   "outputs": [
    {
     "data": {
      "text/plain": [
       "'Heilo'"
      ]
     },
     "execution_count": 145,
     "metadata": {},
     "output_type": "execute_result"
    }
   ],
   "source": [
    "# or\n",
    "a.replace(a[2], 'i', 1)"
   ]
  },
  {
   "cell_type": "code",
   "execution_count": 151,
   "id": "9ae8f8c1",
   "metadata": {},
   "outputs": [
    {
     "data": {
      "text/plain": [
       "'Heilo'"
      ]
     },
     "execution_count": 151,
     "metadata": {},
     "output_type": "execute_result"
    }
   ],
   "source": [
    "a.replace(a[3], 'i', 1)"
   ]
  },
  {
   "cell_type": "code",
   "execution_count": null,
   "id": "a76b98bc",
   "metadata": {},
   "outputs": [],
   "source": []
  },
  {
   "cell_type": "code",
   "execution_count": 127,
   "id": "a16a4384",
   "metadata": {},
   "outputs": [],
   "source": [
    "# text split"
   ]
  },
  {
   "cell_type": "code",
   "execution_count": 193,
   "id": "22bcd641",
   "metadata": {},
   "outputs": [
    {
     "data": {
      "text/plain": [
       "17"
      ]
     },
     "execution_count": 193,
     "metadata": {},
     "output_type": "execute_result"
    }
   ],
   "source": [
    "b = '   HELLO   Wo    '\n",
    "len(b)"
   ]
  },
  {
   "cell_type": "code",
   "execution_count": 174,
   "id": "0a124ce2",
   "metadata": {},
   "outputs": [
    {
     "data": {
      "text/plain": [
       "['HELLO', 'Wo']"
      ]
     },
     "execution_count": 174,
     "metadata": {},
     "output_type": "execute_result"
    }
   ],
   "source": [
    "blen1 = b.split()\n",
    "blen1\n",
    "\n",
    "# res: space ko aadhar ma split garne vo"
   ]
  },
  {
   "cell_type": "code",
   "execution_count": 155,
   "id": "a5ead52b",
   "metadata": {},
   "outputs": [
    {
     "data": {
      "text/plain": [
       "2"
      ]
     },
     "execution_count": 155,
     "metadata": {},
     "output_type": "execute_result"
    }
   ],
   "source": [
    "len(blen1)"
   ]
  },
  {
   "cell_type": "code",
   "execution_count": null,
   "id": "c6b4d27b",
   "metadata": {},
   "outputs": [],
   "source": []
  },
  {
   "cell_type": "code",
   "execution_count": 194,
   "id": "eef008f5",
   "metadata": {},
   "outputs": [
    {
     "data": {
      "text/plain": [
       "['H', 'llo']"
      ]
     },
     "execution_count": 194,
     "metadata": {},
     "output_type": "execute_result"
    }
   ],
   "source": [
    "b = \"Hello\"\n",
    "b.split('e')\n",
    "# res: 'e' bata split gardinxa"
   ]
  },
  {
   "cell_type": "code",
   "execution_count": 195,
   "id": "2dc6a46a",
   "metadata": {},
   "outputs": [
    {
     "data": {
      "text/plain": [
       "2"
      ]
     },
     "execution_count": 195,
     "metadata": {},
     "output_type": "execute_result"
    }
   ],
   "source": [
    "len(b.split('e'))"
   ]
  },
  {
   "cell_type": "code",
   "execution_count": 159,
   "id": "bd7d8572",
   "metadata": {},
   "outputs": [],
   "source": [
    "# res: return is in list type"
   ]
  },
  {
   "cell_type": "code",
   "execution_count": null,
   "id": "f01e9f52",
   "metadata": {},
   "outputs": [],
   "source": []
  },
  {
   "cell_type": "code",
   "execution_count": 196,
   "id": "cd14a41b",
   "metadata": {},
   "outputs": [
    {
     "data": {
      "text/plain": [
       "['   HE', '', 'O   Wo    ']"
      ]
     },
     "execution_count": 196,
     "metadata": {},
     "output_type": "execute_result"
    }
   ],
   "source": [
    "b = '   HELLO   Wo    '\n",
    "b.split('L')\n",
    "# res: 'L' baata split but 'L' chai aaudaina"
   ]
  },
  {
   "cell_type": "code",
   "execution_count": 172,
   "id": "150c1f88",
   "metadata": {},
   "outputs": [
    {
     "data": {
      "text/plain": [
       "3"
      ]
     },
     "execution_count": 172,
     "metadata": {},
     "output_type": "execute_result"
    }
   ],
   "source": [
    "len(b.split('L'))"
   ]
  },
  {
   "cell_type": "code",
   "execution_count": 197,
   "id": "6a18c981",
   "metadata": {},
   "outputs": [
    {
     "data": {
      "text/plain": [
       "['Hell', 'o']"
      ]
     },
     "execution_count": 197,
     "metadata": {},
     "output_type": "execute_result"
    }
   ],
   "source": [
    "b = \"  Hell o\"\n",
    "b.split()\n",
    "\n",
    "# res: split() vitra kei argument pass vayena vane space ko aadhar ma split gardinxa\n",
    "# by default the argument is whitespace"
   ]
  },
  {
   "cell_type": "code",
   "execution_count": null,
   "id": "d6458c99",
   "metadata": {},
   "outputs": [],
   "source": []
  },
  {
   "cell_type": "code",
   "execution_count": 152,
   "id": "5e68db0d",
   "metadata": {},
   "outputs": [],
   "source": [
    "# remove first and last white space"
   ]
  },
  {
   "cell_type": "code",
   "execution_count": 198,
   "id": "ba2def6b",
   "metadata": {},
   "outputs": [
    {
     "data": {
      "text/plain": [
       "'HELLO   Wo'"
      ]
     },
     "execution_count": 198,
     "metadata": {},
     "output_type": "execute_result"
    }
   ],
   "source": [
    "b = '   HELLO   Wo    '\n",
    "blen2= b.strip()\n",
    "blen2"
   ]
  },
  {
   "cell_type": "code",
   "execution_count": 199,
   "id": "3d7e5c0f",
   "metadata": {},
   "outputs": [
    {
     "data": {
      "text/plain": [
       "10"
      ]
     },
     "execution_count": 199,
     "metadata": {},
     "output_type": "execute_result"
    }
   ],
   "source": [
    "len(blen2)"
   ]
  },
  {
   "cell_type": "code",
   "execution_count": 158,
   "id": "5a82a841",
   "metadata": {},
   "outputs": [],
   "source": [
    "# res: yesle agadi and paxadi ko space hatauxa"
   ]
  },
  {
   "cell_type": "code",
   "execution_count": null,
   "id": "be7945c9",
   "metadata": {},
   "outputs": [],
   "source": []
  },
  {
   "cell_type": "markdown",
   "id": "45d927e4",
   "metadata": {},
   "source": [
    "# String Indexing"
   ]
  },
  {
   "cell_type": "code",
   "execution_count": 16,
   "id": "c3b6b4b7",
   "metadata": {},
   "outputs": [],
   "source": [
    "# index baata character nikalne"
   ]
  },
  {
   "cell_type": "code",
   "execution_count": 13,
   "id": "cad5513f",
   "metadata": {},
   "outputs": [],
   "source": [
    "a = \"Hello! Its amazing day!\""
   ]
  },
  {
   "cell_type": "code",
   "execution_count": 15,
   "id": "f414dd13",
   "metadata": {},
   "outputs": [
    {
     "data": {
      "text/plain": [
       "'I'"
      ]
     },
     "execution_count": 15,
     "metadata": {},
     "output_type": "execute_result"
    }
   ],
   "source": [
    "a[7]"
   ]
  },
  {
   "cell_type": "code",
   "execution_count": 31,
   "id": "2cb29e5a",
   "metadata": {},
   "outputs": [],
   "source": [
    "# reverse indexing"
   ]
  },
  {
   "cell_type": "code",
   "execution_count": 28,
   "id": "6ca4bcdc",
   "metadata": {},
   "outputs": [
    {
     "data": {
      "text/plain": [
       "'!'"
      ]
     },
     "execution_count": 28,
     "metadata": {},
     "output_type": "execute_result"
    }
   ],
   "source": [
    "a[-1]"
   ]
  },
  {
   "cell_type": "code",
   "execution_count": 29,
   "id": "b464ec59",
   "metadata": {},
   "outputs": [
    {
     "data": {
      "text/plain": [
       "'y'"
      ]
     },
     "execution_count": 29,
     "metadata": {},
     "output_type": "execute_result"
    }
   ],
   "source": [
    "a[-2]"
   ]
  },
  {
   "cell_type": "code",
   "execution_count": 30,
   "id": "68a9937a",
   "metadata": {},
   "outputs": [
    {
     "data": {
      "text/plain": [
       "'m'"
      ]
     },
     "execution_count": 30,
     "metadata": {},
     "output_type": "execute_result"
    }
   ],
   "source": [
    "a[-11]"
   ]
  },
  {
   "cell_type": "code",
   "execution_count": null,
   "id": "d351f8ec",
   "metadata": {},
   "outputs": [],
   "source": []
  },
  {
   "cell_type": "markdown",
   "id": "a08c7d4f",
   "metadata": {},
   "source": [
    "# String Slicing\n",
    "\n",
    "syntax: [start:stop:step]"
   ]
  },
  {
   "cell_type": "code",
   "execution_count": 200,
   "id": "1ffe129b",
   "metadata": {},
   "outputs": [],
   "source": [
    "# start is inclusive(included), it takes exact assigned index \n",
    "# stop in exclusive(not included) so it takes one less index than the targeted index"
   ]
  },
  {
   "cell_type": "code",
   "execution_count": 76,
   "id": "09a4b5ff",
   "metadata": {},
   "outputs": [],
   "source": [
    "a = \"Hello! Its amazing day!\""
   ]
  },
  {
   "cell_type": "code",
   "execution_count": 19,
   "id": "e21cdae2",
   "metadata": {},
   "outputs": [
    {
     "data": {
      "text/plain": [
       "'Its'"
      ]
     },
     "execution_count": 19,
     "metadata": {},
     "output_type": "execute_result"
    }
   ],
   "source": [
    "a[7:10]"
   ]
  },
  {
   "cell_type": "code",
   "execution_count": 20,
   "id": "daac8f18",
   "metadata": {},
   "outputs": [
    {
     "data": {
      "text/plain": [
       "'Isaa'"
      ]
     },
     "execution_count": 20,
     "metadata": {},
     "output_type": "execute_result"
    }
   ],
   "source": [
    "a[7:15:2]"
   ]
  },
  {
   "cell_type": "code",
   "execution_count": null,
   "id": "fae3db8b",
   "metadata": {},
   "outputs": [],
   "source": []
  },
  {
   "cell_type": "code",
   "execution_count": 21,
   "id": "f549deb3",
   "metadata": {},
   "outputs": [],
   "source": [
    "# from start to end"
   ]
  },
  {
   "cell_type": "code",
   "execution_count": 22,
   "id": "1ddaf683",
   "metadata": {},
   "outputs": [
    {
     "data": {
      "text/plain": [
       "'Hello! Its amazing day!'"
      ]
     },
     "execution_count": 22,
     "metadata": {},
     "output_type": "execute_result"
    }
   ],
   "source": [
    "a[0:]"
   ]
  },
  {
   "cell_type": "code",
   "execution_count": 23,
   "id": "22fee586",
   "metadata": {},
   "outputs": [
    {
     "data": {
      "text/plain": [
       "'Hello! Its amazing day!'"
      ]
     },
     "execution_count": 23,
     "metadata": {},
     "output_type": "execute_result"
    }
   ],
   "source": [
    "# or\n",
    "a[:]"
   ]
  },
  {
   "cell_type": "code",
   "execution_count": 24,
   "id": "0d18d102",
   "metadata": {},
   "outputs": [
    {
     "data": {
      "text/plain": [
       "'Hello'"
      ]
     },
     "execution_count": 24,
     "metadata": {},
     "output_type": "execute_result"
    }
   ],
   "source": [
    "a[:5]"
   ]
  },
  {
   "cell_type": "code",
   "execution_count": null,
   "id": "b2d921b8",
   "metadata": {},
   "outputs": [],
   "source": []
  },
  {
   "cell_type": "code",
   "execution_count": null,
   "id": "5274b8f5",
   "metadata": {},
   "outputs": [],
   "source": []
  },
  {
   "cell_type": "code",
   "execution_count": null,
   "id": "c5c5b9be",
   "metadata": {},
   "outputs": [],
   "source": [
    "# reverse index slicing"
   ]
  },
  {
   "cell_type": "code",
   "execution_count": 32,
   "id": "838c0248",
   "metadata": {},
   "outputs": [
    {
     "name": "stdout",
     "output_type": "stream",
     "text": [
      "23\n"
     ]
    }
   ],
   "source": [
    "print(len(a))"
   ]
  },
  {
   "cell_type": "code",
   "execution_count": 37,
   "id": "16b9d7ef",
   "metadata": {},
   "outputs": [],
   "source": [
    "# step in backward direction"
   ]
  },
  {
   "cell_type": "code",
   "execution_count": 35,
   "id": "3ae0f36c",
   "metadata": {},
   "outputs": [
    {
     "data": {
      "text/plain": [
       "'!yad'"
      ]
     },
     "execution_count": 35,
     "metadata": {},
     "output_type": "execute_result"
    }
   ],
   "source": [
    "a[-1:-5:-1]"
   ]
  },
  {
   "cell_type": "code",
   "execution_count": 38,
   "id": "485c23e3",
   "metadata": {},
   "outputs": [],
   "source": [
    "# step in forward direction"
   ]
  },
  {
   "cell_type": "code",
   "execution_count": 36,
   "id": "4a7811c8",
   "metadata": {},
   "outputs": [
    {
     "data": {
      "text/plain": [
       "'day'"
      ]
     },
     "execution_count": 36,
     "metadata": {},
     "output_type": "execute_result"
    }
   ],
   "source": [
    "a[-4:-1]"
   ]
  },
  {
   "cell_type": "code",
   "execution_count": 39,
   "id": "e68c73a9",
   "metadata": {},
   "outputs": [
    {
     "data": {
      "text/plain": [
       "'day!'"
      ]
     },
     "execution_count": 39,
     "metadata": {},
     "output_type": "execute_result"
    }
   ],
   "source": [
    "a[-4:]"
   ]
  },
  {
   "cell_type": "code",
   "execution_count": null,
   "id": "9f5e2209",
   "metadata": {},
   "outputs": [],
   "source": []
  },
  {
   "cell_type": "code",
   "execution_count": null,
   "id": "f1e5311d",
   "metadata": {},
   "outputs": [],
   "source": []
  },
  {
   "cell_type": "code",
   "execution_count": 40,
   "id": "e06d2014",
   "metadata": {},
   "outputs": [
    {
     "data": {
      "text/plain": [
       "'Hello! Its amazing day'"
      ]
     },
     "execution_count": 40,
     "metadata": {},
     "output_type": "execute_result"
    }
   ],
   "source": [
    "a[:-1]"
   ]
  },
  {
   "cell_type": "code",
   "execution_count": 47,
   "id": "ed0150c9",
   "metadata": {},
   "outputs": [
    {
     "data": {
      "text/plain": [
       "4"
      ]
     },
     "execution_count": 47,
     "metadata": {},
     "output_type": "execute_result"
    }
   ],
   "source": [
    "a.index('o')"
   ]
  },
  {
   "cell_type": "code",
   "execution_count": 51,
   "id": "1a48ad7d",
   "metadata": {},
   "outputs": [
    {
     "data": {
      "text/plain": [
       "'o'"
      ]
     },
     "execution_count": 51,
     "metadata": {},
     "output_type": "execute_result"
    }
   ],
   "source": [
    "a[-19]"
   ]
  },
  {
   "cell_type": "code",
   "execution_count": 52,
   "id": "4692a78d",
   "metadata": {},
   "outputs": [
    {
     "data": {
      "text/plain": [
       "'Hell'"
      ]
     },
     "execution_count": 52,
     "metadata": {},
     "output_type": "execute_result"
    }
   ],
   "source": [
    "a[:-19]"
   ]
  },
  {
   "cell_type": "code",
   "execution_count": null,
   "id": "7e71c452",
   "metadata": {},
   "outputs": [],
   "source": []
  },
  {
   "cell_type": "code",
   "execution_count": 56,
   "id": "5d626c83",
   "metadata": {},
   "outputs": [],
   "source": [
    "# Hello! Its amazing day\n",
    "# yetti print huna paryo"
   ]
  },
  {
   "cell_type": "code",
   "execution_count": null,
   "id": "d5117b87",
   "metadata": {},
   "outputs": [],
   "source": []
  },
  {
   "cell_type": "code",
   "execution_count": 203,
   "id": "17217516",
   "metadata": {},
   "outputs": [],
   "source": [
    "a = \"Hello! Its amazing day!\""
   ]
  },
  {
   "cell_type": "code",
   "execution_count": null,
   "id": "e2d4da1d",
   "metadata": {},
   "outputs": [],
   "source": []
  },
  {
   "cell_type": "code",
   "execution_count": 205,
   "id": "63fd72ec",
   "metadata": {},
   "outputs": [
    {
     "data": {
      "text/plain": [
       "'Hello! Its amazing day'"
      ]
     },
     "execution_count": 205,
     "metadata": {},
     "output_type": "execute_result"
    }
   ],
   "source": [
    "a[:-1]"
   ]
  },
  {
   "cell_type": "code",
   "execution_count": 58,
   "id": "ff90e748",
   "metadata": {},
   "outputs": [],
   "source": [
    "# or"
   ]
  },
  {
   "cell_type": "code",
   "execution_count": 57,
   "id": "1c8d1e9b",
   "metadata": {},
   "outputs": [
    {
     "data": {
      "text/plain": [
       "'Hello! Its amazing day'"
      ]
     },
     "execution_count": 57,
     "metadata": {},
     "output_type": "execute_result"
    }
   ],
   "source": [
    "a[0:-1]"
   ]
  },
  {
   "cell_type": "code",
   "execution_count": null,
   "id": "247a9832",
   "metadata": {},
   "outputs": [],
   "source": []
  },
  {
   "cell_type": "code",
   "execution_count": 78,
   "id": "437face3",
   "metadata": {},
   "outputs": [
    {
     "data": {
      "text/plain": [
       "'!yad gnizama stI !olleH'"
      ]
     },
     "execution_count": 78,
     "metadata": {},
     "output_type": "execute_result"
    }
   ],
   "source": [
    "# reverse string\n",
    "# step pani negative hune raixa\n",
    "\n",
    "a[::-1]"
   ]
  },
  {
   "cell_type": "code",
   "execution_count": 86,
   "id": "ddc2c127",
   "metadata": {},
   "outputs": [
    {
     "data": {
      "text/plain": [
       "'!a nzm t olH'"
      ]
     },
     "execution_count": 86,
     "metadata": {},
     "output_type": "execute_result"
    }
   ],
   "source": [
    "a[::-2]"
   ]
  },
  {
   "cell_type": "code",
   "execution_count": 84,
   "id": "136c65c3",
   "metadata": {},
   "outputs": [
    {
     "data": {
      "text/plain": [
       "'Hello'"
      ]
     },
     "execution_count": 84,
     "metadata": {},
     "output_type": "execute_result"
    }
   ],
   "source": [
    "a[:5:1]"
   ]
  },
  {
   "cell_type": "code",
   "execution_count": 82,
   "id": "5026ca4a",
   "metadata": {},
   "outputs": [
    {
     "data": {
      "text/plain": [
       "'!yad gnizama stI '"
      ]
     },
     "execution_count": 82,
     "metadata": {},
     "output_type": "execute_result"
    }
   ],
   "source": [
    "a[:5:-1]"
   ]
  },
  {
   "cell_type": "code",
   "execution_count": null,
   "id": "753515f0",
   "metadata": {},
   "outputs": [],
   "source": []
  },
  {
   "cell_type": "markdown",
   "id": "b806f975",
   "metadata": {},
   "source": [
    "# String Formatting"
   ]
  },
  {
   "cell_type": "code",
   "execution_count": 93,
   "id": "c42d28b8",
   "metadata": {},
   "outputs": [],
   "source": [
    "# 1. % operator (extinct, not usable these days)\n",
    "# 2. .format()  (usable)\n",
    "# 3. f'string   (usable, new technique)"
   ]
  },
  {
   "cell_type": "code",
   "execution_count": 60,
   "id": "9071f885",
   "metadata": {},
   "outputs": [],
   "source": [
    "# use case: when string and number are used at same time, string formatting is used"
   ]
  },
  {
   "cell_type": "code",
   "execution_count": 96,
   "id": "ad3a3ef0",
   "metadata": {},
   "outputs": [],
   "source": [
    "age = 12\n",
    "name = 'John'"
   ]
  },
  {
   "cell_type": "markdown",
   "id": "2248c592",
   "metadata": {},
   "source": [
    "### % operator"
   ]
  },
  {
   "cell_type": "code",
   "execution_count": 99,
   "id": "97e446bc",
   "metadata": {},
   "outputs": [
    {
     "name": "stdout",
     "output_type": "stream",
     "text": [
      "My name is John and I am 12 years old.\n"
     ]
    }
   ],
   "source": [
    "# don't use this method\n",
    "\n",
    "print('My name is %s and I am %d years old.' %(name, age))"
   ]
  },
  {
   "cell_type": "code",
   "execution_count": null,
   "id": "7c87f1ec",
   "metadata": {},
   "outputs": [],
   "source": []
  },
  {
   "cell_type": "code",
   "execution_count": null,
   "id": "efccf11d",
   "metadata": {},
   "outputs": [],
   "source": []
  },
  {
   "cell_type": "markdown",
   "id": "7868a980",
   "metadata": {},
   "source": [
    "### .format()"
   ]
  },
  {
   "cell_type": "code",
   "execution_count": 90,
   "id": "6bb5cfac",
   "metadata": {},
   "outputs": [],
   "source": []
  },
  {
   "cell_type": "code",
   "execution_count": 63,
   "id": "b16379f4",
   "metadata": {},
   "outputs": [],
   "source": [
    "# print(\"My name is {name} and I am {age}\".format(name, age))"
   ]
  },
  {
   "cell_type": "code",
   "execution_count": 66,
   "id": "86db6dc0",
   "metadata": {},
   "outputs": [
    {
     "name": "stdout",
     "output_type": "stream",
     "text": [
      "My name is John and I am 12 years old.\n"
     ]
    }
   ],
   "source": [
    "print(\"My name is {} and I am {} years old.\".format(name, age))"
   ]
  },
  {
   "cell_type": "code",
   "execution_count": null,
   "id": "f7874693",
   "metadata": {},
   "outputs": [],
   "source": []
  },
  {
   "cell_type": "code",
   "execution_count": 69,
   "id": "8a95f2a5",
   "metadata": {},
   "outputs": [
    {
     "name": "stdout",
     "output_type": "stream",
     "text": [
      "My name is John and I am 12 years old.\n"
     ]
    }
   ],
   "source": [
    "# actually working chai index baata hunxa in \"format(name, age)\"\n",
    "print(\"My name is {0} and I am {1} years old.\".format(name, age))"
   ]
  },
  {
   "cell_type": "code",
   "execution_count": 71,
   "id": "c7d0ca63",
   "metadata": {},
   "outputs": [
    {
     "name": "stdout",
     "output_type": "stream",
     "text": [
      "My name is John and I am 12 years old.\n"
     ]
    }
   ],
   "source": [
    "# or\n",
    "print(\"My name is {1} and I am {0} years old.\".format(age, name))\n"
   ]
  },
  {
   "cell_type": "code",
   "execution_count": null,
   "id": "3eec766f",
   "metadata": {},
   "outputs": [],
   "source": []
  },
  {
   "cell_type": "code",
   "execution_count": 68,
   "id": "204970b8",
   "metadata": {},
   "outputs": [
    {
     "name": "stdout",
     "output_type": "stream",
     "text": [
      "My name is 12 and I am John years old.\n"
     ]
    }
   ],
   "source": [
    "print(\"My name is {1} and I am {0} years old.\".format(name, age))"
   ]
  },
  {
   "cell_type": "markdown",
   "id": "67b39c85",
   "metadata": {},
   "source": [
    "### f'string()"
   ]
  },
  {
   "cell_type": "code",
   "execution_count": 94,
   "id": "80eda888",
   "metadata": {},
   "outputs": [
    {
     "name": "stdout",
     "output_type": "stream",
     "text": [
      "My name is John and I am 12 years old.\n"
     ]
    }
   ],
   "source": [
    "# direct string name/value pass in curly bracket unlike in format method\n",
    "# eg: f'{name}  {age}'\n",
    "\n",
    "print(f'My name is {name} and I am {age} years old.')"
   ]
  }
 ],
 "metadata": {
  "kernelspec": {
   "display_name": "Python 3 (ipykernel)",
   "language": "python",
   "name": "python3"
  },
  "language_info": {
   "codemirror_mode": {
    "name": "ipython",
    "version": 3
   },
   "file_extension": ".py",
   "mimetype": "text/x-python",
   "name": "python",
   "nbconvert_exporter": "python",
   "pygments_lexer": "ipython3",
   "version": "3.10.7"
  }
 },
 "nbformat": 4,
 "nbformat_minor": 5
}
