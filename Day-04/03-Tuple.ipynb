{
 "cells": [
  {
   "cell_type": "markdown",
   "id": "9396f30a",
   "metadata": {},
   "source": [
    "# Tuple\n",
    "\n"
   ]
  },
  {
   "cell_type": "code",
   "execution_count": 1,
   "id": "d1a42218",
   "metadata": {},
   "outputs": [],
   "source": [
    "# immutable (non-changeable) || (....)\n",
    "# in paranthesis\n",
    "# similar to list"
   ]
  },
  {
   "cell_type": "code",
   "execution_count": 14,
   "id": "63284dd6",
   "metadata": {},
   "outputs": [],
   "source": [
    "a = ('a', 'b', 'c', 1, 2, 4.5, 1, 'a', 55) "
   ]
  },
  {
   "cell_type": "code",
   "execution_count": 15,
   "id": "b3edc210",
   "metadata": {},
   "outputs": [
    {
     "ename": "TypeError",
     "evalue": "'tuple' object does not support item assignment",
     "output_type": "error",
     "traceback": [
      "\u001b[1;31m---------------------------------------------------------------------------\u001b[0m",
      "\u001b[1;31mTypeError\u001b[0m                                 Traceback (most recent call last)",
      "Cell \u001b[1;32mIn[15], line 1\u001b[0m\n\u001b[1;32m----> 1\u001b[0m \u001b[43ma\u001b[49m\u001b[43m[\u001b[49m\u001b[38;5;241;43m2\u001b[39;49m\u001b[43m]\u001b[49m \u001b[38;5;241m=\u001b[39m \u001b[38;5;241m90\u001b[39m\n",
      "\u001b[1;31mTypeError\u001b[0m: 'tuple' object does not support item assignment"
     ]
    }
   ],
   "source": [
    "a[2] = 90"
   ]
  },
  {
   "cell_type": "markdown",
   "id": "1aa7041c",
   "metadata": {},
   "source": [
    "# Methods"
   ]
  },
  {
   "cell_type": "code",
   "execution_count": 31,
   "id": "766b1a5f",
   "metadata": {},
   "outputs": [],
   "source": [
    "a = ('a', 'b', 'c', 1, 2, 4.5, 1, 'a', 55) "
   ]
  },
  {
   "cell_type": "code",
   "execution_count": 32,
   "id": "a477d24d",
   "metadata": {},
   "outputs": [
    {
     "data": {
      "text/plain": [
       "('a', 'b', 'c', 1, 2, 4.5, 1, 'a', 55)"
      ]
     },
     "execution_count": 32,
     "metadata": {},
     "output_type": "execute_result"
    }
   ],
   "source": [
    "a"
   ]
  },
  {
   "cell_type": "code",
   "execution_count": 11,
   "id": "edbddc68",
   "metadata": {},
   "outputs": [],
   "source": [
    "# most of the methods are not there becaause tuple is immutable\n"
   ]
  },
  {
   "cell_type": "code",
   "execution_count": 34,
   "id": "9e2d5f0e",
   "metadata": {},
   "outputs": [
    {
     "data": {
      "text/plain": [
       "0"
      ]
     },
     "execution_count": 34,
     "metadata": {},
     "output_type": "execute_result"
    }
   ],
   "source": [
    "a.index('a')"
   ]
  },
  {
   "cell_type": "code",
   "execution_count": 18,
   "id": "51e6ff22",
   "metadata": {},
   "outputs": [],
   "source": [
    "# res: two 'a' huda, 1st a ko matra index diyo"
   ]
  },
  {
   "cell_type": "code",
   "execution_count": null,
   "id": "13194461",
   "metadata": {},
   "outputs": [],
   "source": []
  },
  {
   "cell_type": "markdown",
   "id": "19963518",
   "metadata": {},
   "source": [
    "# Advance Index in Tuple"
   ]
  },
  {
   "cell_type": "code",
   "execution_count": null,
   "id": "c4442463",
   "metadata": {},
   "outputs": [],
   "source": [
    "# ques: 2nd 1 ko kasari index value nikalne?"
   ]
  },
  {
   "cell_type": "code",
   "execution_count": 35,
   "id": "0f9ebb6b",
   "metadata": {},
   "outputs": [
    {
     "data": {
      "text/plain": [
       "3"
      ]
     },
     "execution_count": 35,
     "metadata": {},
     "output_type": "execute_result"
    }
   ],
   "source": [
    "a.index(1)"
   ]
  },
  {
   "cell_type": "code",
   "execution_count": 36,
   "id": "47b6960e",
   "metadata": {},
   "outputs": [],
   "source": [
    "z= a.index(1)"
   ]
  },
  {
   "cell_type": "code",
   "execution_count": 38,
   "id": "66d68ce1",
   "metadata": {},
   "outputs": [
    {
     "data": {
      "text/plain": [
       "3"
      ]
     },
     "execution_count": 38,
     "metadata": {},
     "output_type": "execute_result"
    }
   ],
   "source": [
    "z"
   ]
  },
  {
   "cell_type": "code",
   "execution_count": null,
   "id": "02fab0a7",
   "metadata": {},
   "outputs": [],
   "source": [
    "# a.index(1, start, stop)"
   ]
  },
  {
   "cell_type": "code",
   "execution_count": 39,
   "id": "eb6a60b8",
   "metadata": {},
   "outputs": [
    {
     "data": {
      "text/plain": [
       "6"
      ]
     },
     "execution_count": 39,
     "metadata": {},
     "output_type": "execute_result"
    }
   ],
   "source": [
    "a.index(1, z+1)"
   ]
  },
  {
   "cell_type": "code",
   "execution_count": null,
   "id": "7f060233",
   "metadata": {},
   "outputs": [],
   "source": [
    "# res: Now, we don't have built-in methods to find index of 2nd '1' but we can use logic\n",
    "# may be in coming days, python will update\n",
    "# you can also use loop to calculate but this method will be fast"
   ]
  },
  {
   "cell_type": "code",
   "execution_count": null,
   "id": "d55557af",
   "metadata": {},
   "outputs": [],
   "source": []
  },
  {
   "cell_type": "code",
   "execution_count": 30,
   "id": "b7d5c401",
   "metadata": {},
   "outputs": [
    {
     "data": {
      "text/plain": [
       "9"
      ]
     },
     "execution_count": 30,
     "metadata": {},
     "output_type": "execute_result"
    }
   ],
   "source": [
    "len(a)"
   ]
  },
  {
   "cell_type": "code",
   "execution_count": null,
   "id": "f3bb8f13",
   "metadata": {},
   "outputs": [],
   "source": []
  },
  {
   "cell_type": "code",
   "execution_count": 19,
   "id": "32adfd51",
   "metadata": {},
   "outputs": [
    {
     "data": {
      "text/plain": [
       "2"
      ]
     },
     "execution_count": 19,
     "metadata": {},
     "output_type": "execute_result"
    }
   ],
   "source": [
    "a.count(1)"
   ]
  },
  {
   "cell_type": "code",
   "execution_count": 20,
   "id": "fa5671f5",
   "metadata": {},
   "outputs": [
    {
     "data": {
      "text/plain": [
       "2"
      ]
     },
     "execution_count": 20,
     "metadata": {},
     "output_type": "execute_result"
    }
   ],
   "source": [
    "a.count('a')"
   ]
  },
  {
   "cell_type": "code",
   "execution_count": 21,
   "id": "b5e7be50",
   "metadata": {},
   "outputs": [
    {
     "ename": "TypeError",
     "evalue": "tuple.count() takes exactly one argument (0 given)",
     "output_type": "error",
     "traceback": [
      "\u001b[1;31m---------------------------------------------------------------------------\u001b[0m",
      "\u001b[1;31mTypeError\u001b[0m                                 Traceback (most recent call last)",
      "Cell \u001b[1;32mIn[21], line 1\u001b[0m\n\u001b[1;32m----> 1\u001b[0m \u001b[43ma\u001b[49m\u001b[38;5;241;43m.\u001b[39;49m\u001b[43mcount\u001b[49m\u001b[43m(\u001b[49m\u001b[43m)\u001b[49m\n",
      "\u001b[1;31mTypeError\u001b[0m: tuple.count() takes exactly one argument (0 given)"
     ]
    }
   ],
   "source": [
    "a.count()"
   ]
  },
  {
   "cell_type": "code",
   "execution_count": 22,
   "id": "32840827",
   "metadata": {},
   "outputs": [
    {
     "data": {
      "text/plain": [
       "1"
      ]
     },
     "execution_count": 22,
     "metadata": {},
     "output_type": "execute_result"
    }
   ],
   "source": [
    "a.count(2)"
   ]
  },
  {
   "cell_type": "markdown",
   "id": "1af99bc9",
   "metadata": {},
   "source": [
    "# Indexing"
   ]
  },
  {
   "cell_type": "code",
   "execution_count": 23,
   "id": "7a8ba029",
   "metadata": {},
   "outputs": [
    {
     "data": {
      "text/plain": [
       "'c'"
      ]
     },
     "execution_count": 23,
     "metadata": {},
     "output_type": "execute_result"
    }
   ],
   "source": [
    "a[2]"
   ]
  },
  {
   "cell_type": "code",
   "execution_count": 25,
   "id": "a5ad6cc9",
   "metadata": {},
   "outputs": [
    {
     "data": {
      "text/plain": [
       "55"
      ]
     },
     "execution_count": 25,
     "metadata": {},
     "output_type": "execute_result"
    }
   ],
   "source": [
    "a[-1]"
   ]
  },
  {
   "cell_type": "markdown",
   "id": "967fd388",
   "metadata": {},
   "source": [
    "# Slicing"
   ]
  },
  {
   "cell_type": "code",
   "execution_count": 27,
   "id": "023d5008",
   "metadata": {},
   "outputs": [
    {
     "data": {
      "text/plain": [
       "('a', 'b', 'c', 1, 2, 4.5, 1, 'a', 55)"
      ]
     },
     "execution_count": 27,
     "metadata": {},
     "output_type": "execute_result"
    }
   ],
   "source": [
    "a\n"
   ]
  },
  {
   "cell_type": "code",
   "execution_count": 28,
   "id": "260c5ccd",
   "metadata": {},
   "outputs": [
    {
     "data": {
      "text/plain": [
       "('c', 1, 2)"
      ]
     },
     "execution_count": 28,
     "metadata": {},
     "output_type": "execute_result"
    }
   ],
   "source": [
    "a[2:5]"
   ]
  },
  {
   "cell_type": "code",
   "execution_count": 29,
   "id": "8df7186f",
   "metadata": {},
   "outputs": [
    {
     "data": {
      "text/plain": [
       "(55, 'a', 1, 4.5, 2, 1, 'c', 'b', 'a')"
      ]
     },
     "execution_count": 29,
     "metadata": {},
     "output_type": "execute_result"
    }
   ],
   "source": [
    "a[::-1]"
   ]
  }
 ],
 "metadata": {
  "kernelspec": {
   "display_name": "Python 3 (ipykernel)",
   "language": "python",
   "name": "python3"
  },
  "language_info": {
   "codemirror_mode": {
    "name": "ipython",
    "version": 3
   },
   "file_extension": ".py",
   "mimetype": "text/x-python",
   "name": "python",
   "nbconvert_exporter": "python",
   "pygments_lexer": "ipython3",
   "version": "3.10.7"
  }
 },
 "nbformat": 4,
 "nbformat_minor": 5
}
