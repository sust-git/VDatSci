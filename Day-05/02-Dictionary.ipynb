{
 "cells": [
  {
   "cell_type": "markdown",
   "id": "8335055c",
   "metadata": {},
   "source": [
    "# Dictionary (Object)\n",
    "\n",
    "{'key' : 'value'}\n",
    "\n",
    "{'key1' : 'value1', 'key2' : 'value2', .....}"
   ]
  },
  {
   "cell_type": "code",
   "execution_count": 1,
   "id": "97891681",
   "metadata": {},
   "outputs": [],
   "source": [
    "# 'key' works as indexing value like List and Tuple\n",
    "# key must be unique\n",
    "# fastest Data Structure for accessing\n",
    "# most used Data Structure in Data Science"
   ]
  },
  {
   "cell_type": "code",
   "execution_count": 34,
   "id": "bec16b20",
   "metadata": {},
   "outputs": [
    {
     "data": {
      "text/plain": [
       "4"
      ]
     },
     "execution_count": 34,
     "metadata": {},
     "output_type": "execute_result"
    }
   ],
   "source": [
    "# case 1:\n",
    "a= [1, 2, 3, 4, 5]\n",
    "a[3]"
   ]
  },
  {
   "cell_type": "code",
   "execution_count": 3,
   "id": "8ee6d061",
   "metadata": {},
   "outputs": [],
   "source": [
    "# if you want to access element 5, it have to go through index 0 to index 4 \n",
    "# This is a slow process\n",
    "# But in dictionary, its fast process"
   ]
  },
  {
   "cell_type": "code",
   "execution_count": 40,
   "id": "51242ab4",
   "metadata": {},
   "outputs": [],
   "source": [
    "a = {'a': 1, 'b': 2}"
   ]
  },
  {
   "cell_type": "code",
   "execution_count": 4,
   "id": "d051f671",
   "metadata": {},
   "outputs": [
    {
     "data": {
      "text/plain": [
       "1"
      ]
     },
     "execution_count": 4,
     "metadata": {},
     "output_type": "execute_result"
    }
   ],
   "source": [
    "a['a']"
   ]
  },
  {
   "cell_type": "code",
   "execution_count": 5,
   "id": "cf6de583",
   "metadata": {},
   "outputs": [
    {
     "data": {
      "text/plain": [
       "2"
      ]
     },
     "execution_count": 5,
     "metadata": {},
     "output_type": "execute_result"
    }
   ],
   "source": [
    "a['b']"
   ]
  },
  {
   "cell_type": "code",
   "execution_count": 7,
   "id": "4cbc151a",
   "metadata": {},
   "outputs": [],
   "source": [
    "# place dict inside list i.e.   [{...}, {...}, ....] if you have multiple data"
   ]
  },
  {
   "cell_type": "code",
   "execution_count": 16,
   "id": "3649d4ca",
   "metadata": {},
   "outputs": [
    {
     "name": "stdout",
     "output_type": "stream",
     "text": [
      "['__class__', '__class_getitem__', '__contains__', '__delattr__', '__delitem__', '__dir__', '__doc__', '__eq__', '__format__', '__ge__', '__getattribute__', '__getitem__', '__gt__', '__hash__', '__init__', '__init_subclass__', '__ior__', '__iter__', '__le__', '__len__', '__lt__', '__ne__', '__new__', '__or__', '__reduce__', '__reduce_ex__', '__repr__', '__reversed__', '__ror__', '__setattr__', '__setitem__', '__sizeof__', '__str__', '__subclasshook__', 'clear', 'copy', 'fromkeys', 'get', 'items', 'keys', 'pop', 'popitem', 'setdefault', 'update', 'values']\n"
     ]
    }
   ],
   "source": [
    "print(dir(a))"
   ]
  },
  {
   "cell_type": "code",
   "execution_count": null,
   "id": "3d85f1be",
   "metadata": {},
   "outputs": [],
   "source": []
  },
  {
   "cell_type": "markdown",
   "id": "7147dfb7",
   "metadata": {},
   "source": [
    "# Accessing Dictionary"
   ]
  },
  {
   "cell_type": "code",
   "execution_count": 6,
   "id": "673fff54",
   "metadata": {},
   "outputs": [],
   "source": [
    "a = {1:1, 2:2, 'c':3}"
   ]
  },
  {
   "cell_type": "code",
   "execution_count": 7,
   "id": "5a36274a",
   "metadata": {},
   "outputs": [
    {
     "data": {
      "text/plain": [
       "{1: 1, 2: 2, 'c': 3}"
      ]
     },
     "execution_count": 7,
     "metadata": {},
     "output_type": "execute_result"
    }
   ],
   "source": [
    "a"
   ]
  },
  {
   "cell_type": "code",
   "execution_count": null,
   "id": "d6c0a7a3",
   "metadata": {},
   "outputs": [],
   "source": []
  },
  {
   "cell_type": "code",
   "execution_count": null,
   "id": "28548c43",
   "metadata": {},
   "outputs": [],
   "source": []
  },
  {
   "cell_type": "code",
   "execution_count": 10,
   "id": "c60e9619",
   "metadata": {},
   "outputs": [],
   "source": [
    "# dict()"
   ]
  },
  {
   "cell_type": "code",
   "execution_count": 13,
   "id": "282460f2",
   "metadata": {},
   "outputs": [],
   "source": [
    "x = dict(name = \"John\", age = 36, country = \"Norway\")"
   ]
  },
  {
   "cell_type": "code",
   "execution_count": 14,
   "id": "b895eceb",
   "metadata": {},
   "outputs": [
    {
     "data": {
      "text/plain": [
       "{'name': 'John', 'age': 36, 'country': 'Norway'}"
      ]
     },
     "execution_count": 14,
     "metadata": {},
     "output_type": "execute_result"
    }
   ],
   "source": [
    "x"
   ]
  },
  {
   "cell_type": "code",
   "execution_count": null,
   "id": "1098697a",
   "metadata": {},
   "outputs": [],
   "source": [
    "# conc: dict() use garnu vanda direct key value banayera garda vo"
   ]
  },
  {
   "cell_type": "code",
   "execution_count": null,
   "id": "0235f8ab",
   "metadata": {},
   "outputs": [],
   "source": []
  },
  {
   "cell_type": "code",
   "execution_count": 22,
   "id": "f074e127",
   "metadata": {},
   "outputs": [
    {
     "data": {
      "text/plain": [
       "{1: 1, 2: 2, 'c': 3}"
      ]
     },
     "execution_count": 22,
     "metadata": {},
     "output_type": "execute_result"
    }
   ],
   "source": [
    "a"
   ]
  },
  {
   "cell_type": "code",
   "execution_count": 8,
   "id": "cf1da2d2",
   "metadata": {},
   "outputs": [
    {
     "data": {
      "text/plain": [
       "1"
      ]
     },
     "execution_count": 8,
     "metadata": {},
     "output_type": "execute_result"
    }
   ],
   "source": [
    "a[1]\n"
   ]
  },
  {
   "cell_type": "code",
   "execution_count": 20,
   "id": "4bd55894",
   "metadata": {},
   "outputs": [
    {
     "data": {
      "text/plain": [
       "3"
      ]
     },
     "execution_count": 20,
     "metadata": {},
     "output_type": "execute_result"
    }
   ],
   "source": [
    "a['c']"
   ]
  },
  {
   "cell_type": "code",
   "execution_count": 21,
   "id": "7cbde4a7",
   "metadata": {},
   "outputs": [],
   "source": [
    "# or\n",
    "# we can use get() method to get the value of respective key\n",
    "# get() method is different from getter() and setter() method"
   ]
  },
  {
   "cell_type": "code",
   "execution_count": 23,
   "id": "3fde6ffd",
   "metadata": {},
   "outputs": [
    {
     "data": {
      "text/plain": [
       "3"
      ]
     },
     "execution_count": 23,
     "metadata": {},
     "output_type": "execute_result"
    }
   ],
   "source": [
    "a.get('c')"
   ]
  },
  {
   "cell_type": "code",
   "execution_count": null,
   "id": "06461d82",
   "metadata": {},
   "outputs": [],
   "source": []
  },
  {
   "cell_type": "code",
   "execution_count": null,
   "id": "6c518e48",
   "metadata": {},
   "outputs": [],
   "source": [
    "# diff using get() method and direct accessing a['c']"
   ]
  },
  {
   "cell_type": "code",
   "execution_count": 24,
   "id": "bb146420",
   "metadata": {},
   "outputs": [],
   "source": [
    "a.get(5)"
   ]
  },
  {
   "cell_type": "code",
   "execution_count": 25,
   "id": "61203bae",
   "metadata": {},
   "outputs": [
    {
     "name": "stdout",
     "output_type": "stream",
     "text": [
      "None\n"
     ]
    }
   ],
   "source": [
    "print(a.get(5))"
   ]
  },
  {
   "cell_type": "code",
   "execution_count": null,
   "id": "0448022e",
   "metadata": {},
   "outputs": [],
   "source": []
  },
  {
   "cell_type": "code",
   "execution_count": 26,
   "id": "d3e0dd56",
   "metadata": {},
   "outputs": [
    {
     "ename": "KeyError",
     "evalue": "5",
     "output_type": "error",
     "traceback": [
      "\u001b[1;31m---------------------------------------------------------------------------\u001b[0m",
      "\u001b[1;31mKeyError\u001b[0m                                  Traceback (most recent call last)",
      "Cell \u001b[1;32mIn[26], line 1\u001b[0m\n\u001b[1;32m----> 1\u001b[0m \u001b[43ma\u001b[49m\u001b[43m[\u001b[49m\u001b[38;5;241;43m5\u001b[39;49m\u001b[43m]\u001b[49m\n",
      "\u001b[1;31mKeyError\u001b[0m: 5"
     ]
    }
   ],
   "source": [
    "a[5]"
   ]
  },
  {
   "cell_type": "code",
   "execution_count": 27,
   "id": "9c3313fb",
   "metadata": {},
   "outputs": [],
   "source": [
    "# res: if there is not required key in the dictionary, get() method doesen't throw error. But it sends None\n",
    "# while other throws error"
   ]
  },
  {
   "cell_type": "code",
   "execution_count": null,
   "id": "0215b908",
   "metadata": {},
   "outputs": [],
   "source": []
  },
  {
   "cell_type": "markdown",
   "id": "24c9fce6",
   "metadata": {},
   "source": [
    "# Dictionary Methods"
   ]
  },
  {
   "cell_type": "code",
   "execution_count": 13,
   "id": "44b36c23",
   "metadata": {},
   "outputs": [],
   "source": [
    "# return all key at once"
   ]
  },
  {
   "cell_type": "code",
   "execution_count": 10,
   "id": "1f1485a8",
   "metadata": {},
   "outputs": [
    {
     "data": {
      "text/plain": [
       "dict_keys([1, 2, 'c'])"
      ]
     },
     "execution_count": 10,
     "metadata": {},
     "output_type": "execute_result"
    }
   ],
   "source": [
    "a.keys()"
   ]
  },
  {
   "cell_type": "code",
   "execution_count": 11,
   "id": "6701ec9b",
   "metadata": {},
   "outputs": [
    {
     "data": {
      "text/plain": [
       "dict_values([1, 2, 3])"
      ]
     },
     "execution_count": 11,
     "metadata": {},
     "output_type": "execute_result"
    }
   ],
   "source": [
    "a.values()"
   ]
  },
  {
   "cell_type": "code",
   "execution_count": 12,
   "id": "963617a4",
   "metadata": {},
   "outputs": [
    {
     "data": {
      "text/plain": [
       "{1: 1, 2: 2, 'c': 3}"
      ]
     },
     "execution_count": 12,
     "metadata": {},
     "output_type": "execute_result"
    }
   ],
   "source": [
    "a"
   ]
  },
  {
   "cell_type": "code",
   "execution_count": 17,
   "id": "9e90b07b",
   "metadata": {},
   "outputs": [
    {
     "data": {
      "text/plain": [
       "dict_items([(1, 1), (2, 2), ('c', 3)])"
      ]
     },
     "execution_count": 17,
     "metadata": {},
     "output_type": "execute_result"
    }
   ],
   "source": [
    "a.items()"
   ]
  },
  {
   "cell_type": "code",
   "execution_count": 19,
   "id": "b46930d3",
   "metadata": {},
   "outputs": [],
   "source": [
    "# res: items haru List vitra Tuple vayera aayeko cha\n",
    "# keys(), values(), items() are benefitial while working with loops"
   ]
  },
  {
   "cell_type": "code",
   "execution_count": null,
   "id": "99dd4425",
   "metadata": {},
   "outputs": [],
   "source": []
  },
  {
   "cell_type": "markdown",
   "id": "7cd62b84",
   "metadata": {},
   "source": [
    "# Modiying Dictionary"
   ]
  },
  {
   "cell_type": "code",
   "execution_count": 28,
   "id": "064f3d2a",
   "metadata": {},
   "outputs": [],
   "source": [
    "# syntax: \n",
    "# dict_name[key] = value\n",
    "# a['c'] = 90"
   ]
  },
  {
   "cell_type": "code",
   "execution_count": 41,
   "id": "3c2f879b",
   "metadata": {},
   "outputs": [
    {
     "ename": "SyntaxError",
     "evalue": "leading zeros in decimal integer literals are not permitted; use an 0o prefix for octal integers (1859039721.py, line 1)",
     "output_type": "error",
     "traceback": [
      "\u001b[1;36m  Cell \u001b[1;32mIn[41], line 1\u001b[1;36m\u001b[0m\n\u001b[1;33m    a[1] = 00700\u001b[0m\n\u001b[1;37m           ^\u001b[0m\n\u001b[1;31mSyntaxError\u001b[0m\u001b[1;31m:\u001b[0m leading zeros in decimal integer literals are not permitted; use an 0o prefix for octal integers\n"
     ]
    }
   ],
   "source": [
    "a[1] = 00700"
   ]
  },
  {
   "cell_type": "code",
   "execution_count": 42,
   "id": "1021b0e6",
   "metadata": {},
   "outputs": [
    {
     "data": {
      "text/plain": [
       "{'a': 1, 'b': 2}"
      ]
     },
     "execution_count": 42,
     "metadata": {},
     "output_type": "execute_result"
    }
   ],
   "source": [
    "# before the value of a\n",
    "a\n"
   ]
  },
  {
   "cell_type": "code",
   "execution_count": 36,
   "id": "d7393e87",
   "metadata": {},
   "outputs": [],
   "source": [
    "# after"
   ]
  },
  {
   "cell_type": "code",
   "execution_count": 43,
   "id": "7a779a07",
   "metadata": {},
   "outputs": [],
   "source": [
    "a['a'] = 200"
   ]
  },
  {
   "cell_type": "code",
   "execution_count": 44,
   "id": "0654c063",
   "metadata": {},
   "outputs": [
    {
     "data": {
      "text/plain": [
       "{'a': 200, 'b': 2}"
      ]
     },
     "execution_count": 44,
     "metadata": {},
     "output_type": "execute_result"
    }
   ],
   "source": [
    "a"
   ]
  },
  {
   "cell_type": "code",
   "execution_count": null,
   "id": "88aedd7f",
   "metadata": {},
   "outputs": [],
   "source": []
  },
  {
   "cell_type": "code",
   "execution_count": null,
   "id": "c58cb087",
   "metadata": {},
   "outputs": [],
   "source": [
    "# adding the element in dict or append work"
   ]
  },
  {
   "cell_type": "code",
   "execution_count": 45,
   "id": "fa7624c4",
   "metadata": {},
   "outputs": [],
   "source": [
    "a['d'] = 'tiger'"
   ]
  },
  {
   "cell_type": "code",
   "execution_count": 46,
   "id": "c74986c4",
   "metadata": {},
   "outputs": [
    {
     "data": {
      "text/plain": [
       "{'a': 200, 'b': 2, 'd': 'tiger'}"
      ]
     },
     "execution_count": 46,
     "metadata": {},
     "output_type": "execute_result"
    }
   ],
   "source": [
    "a"
   ]
  },
  {
   "cell_type": "code",
   "execution_count": 47,
   "id": "14e7d2ad",
   "metadata": {},
   "outputs": [],
   "source": [
    "# res: suru or last ma add vayera kei hunna, we will be accessing through key"
   ]
  },
  {
   "cell_type": "code",
   "execution_count": 48,
   "id": "5f5370b6",
   "metadata": {},
   "outputs": [],
   "source": [
    "# extra: Among Data Sructure, type conversion gardai kaam garna ni milxa"
   ]
  },
  {
   "cell_type": "code",
   "execution_count": null,
   "id": "054ed409",
   "metadata": {},
   "outputs": [],
   "source": []
  }
 ],
 "metadata": {
  "kernelspec": {
   "display_name": "Python 3 (ipykernel)",
   "language": "python",
   "name": "python3"
  },
  "language_info": {
   "codemirror_mode": {
    "name": "ipython",
    "version": 3
   },
   "file_extension": ".py",
   "mimetype": "text/x-python",
   "name": "python",
   "nbconvert_exporter": "python",
   "pygments_lexer": "ipython3",
   "version": "3.10.7"
  }
 },
 "nbformat": 4,
 "nbformat_minor": 5
}
