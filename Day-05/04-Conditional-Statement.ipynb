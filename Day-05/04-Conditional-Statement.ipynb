{
 "cells": [
  {
   "cell_type": "markdown",
   "id": "0003017d",
   "metadata": {},
   "source": [
    "# Conditional Statements\n",
    "\n",
    "syntax:\n",
    "\n",
    "```python\n",
    "if CONDITION:\n",
    "    Do Something\n",
    "else:\n",
    "    Do Something Else\n",
    "```"
   ]
  },
  {
   "cell_type": "code",
   "execution_count": 1,
   "id": "8a299c1b",
   "metadata": {},
   "outputs": [
    {
     "name": "stdout",
     "output_type": "stream",
     "text": [
      "enter a number 23\n"
     ]
    }
   ],
   "source": [
    "a = input(\"enter a number \")"
   ]
  },
  {
   "cell_type": "code",
   "execution_count": 2,
   "id": "71637bda",
   "metadata": {},
   "outputs": [
    {
     "data": {
      "text/plain": [
       "'23'"
      ]
     },
     "execution_count": 2,
     "metadata": {},
     "output_type": "execute_result"
    }
   ],
   "source": [
    "a"
   ]
  },
  {
   "cell_type": "code",
   "execution_count": 3,
   "id": "34f1d088",
   "metadata": {},
   "outputs": [
    {
     "data": {
      "text/plain": [
       "str"
      ]
     },
     "execution_count": 3,
     "metadata": {},
     "output_type": "execute_result"
    }
   ],
   "source": [
    "type(a)"
   ]
  },
  {
   "cell_type": "code",
   "execution_count": 3,
   "id": "09f9f6ab",
   "metadata": {},
   "outputs": [],
   "source": [
    "# res: here, input returns by default string data type.\n",
    "# here, '23' is a string"
   ]
  },
  {
   "cell_type": "code",
   "execution_count": 8,
   "id": "a6351db6",
   "metadata": {},
   "outputs": [
    {
     "name": "stdout",
     "output_type": "stream",
     "text": [
      "enter a number -8\n"
     ]
    }
   ],
   "source": [
    "a = int(input(\"enter a number \"))"
   ]
  },
  {
   "cell_type": "code",
   "execution_count": 9,
   "id": "b8fb247a",
   "metadata": {},
   "outputs": [
    {
     "data": {
      "text/plain": [
       "-8"
      ]
     },
     "execution_count": 9,
     "metadata": {},
     "output_type": "execute_result"
    }
   ],
   "source": [
    "a"
   ]
  },
  {
   "cell_type": "code",
   "execution_count": 10,
   "id": "66191998",
   "metadata": {},
   "outputs": [
    {
     "data": {
      "text/plain": [
       "int"
      ]
     },
     "execution_count": 10,
     "metadata": {},
     "output_type": "execute_result"
    }
   ],
   "source": [
    "type(a)"
   ]
  },
  {
   "cell_type": "code",
   "execution_count": 6,
   "id": "19d80df4",
   "metadata": {},
   "outputs": [],
   "source": [
    "# res: now a is in integer. Type conversion is done by using int()\n"
   ]
  },
  {
   "cell_type": "code",
   "execution_count": 14,
   "id": "c431fde3",
   "metadata": {},
   "outputs": [
    {
     "name": "stdout",
     "output_type": "stream",
     "text": [
      "-8 is a not a positive number\n"
     ]
    }
   ],
   "source": [
    "if a > 0:\n",
    "    print(f'{a} is a positive number')\n",
    "else:\n",
    "    print(\"{} is a not a positive number\".format(a))"
   ]
  },
  {
   "cell_type": "code",
   "execution_count": null,
   "id": "a2cd09ce",
   "metadata": {},
   "outputs": [],
   "source": []
  },
  {
   "cell_type": "markdown",
   "id": "000fc8cb",
   "metadata": {},
   "source": [
    "## Multiple Conditions\n",
    "\n",
    "```python\n",
    "if CONDITION 1:\n",
    "    Do Something\n",
    "    \n",
    "elif CONDITION 2:\n",
    "    Do Something\n",
    "    \n",
    "elif ...\n",
    ".\n",
    ".\n",
    ".\n",
    "\n",
    "else:\n",
    "    Do Something Else\n",
    "```\n",
    "\n",
    "\n",
    "elif = else + if"
   ]
  },
  {
   "cell_type": "code",
   "execution_count": null,
   "id": "1a075158",
   "metadata": {},
   "outputs": [],
   "source": []
  },
  {
   "cell_type": "code",
   "execution_count": 15,
   "id": "643a9b05",
   "metadata": {},
   "outputs": [
    {
     "name": "stdout",
     "output_type": "stream",
     "text": [
      "enter a number 0\n"
     ]
    }
   ],
   "source": [
    "a = int(input(\"enter a number \"))"
   ]
  },
  {
   "cell_type": "code",
   "execution_count": 17,
   "id": "8d39dd01",
   "metadata": {},
   "outputs": [
    {
     "ename": "SyntaxError",
     "evalue": "unterminated string literal (detected at line 5) (21953489.py, line 5)",
     "output_type": "error",
     "traceback": [
      "\u001b[1;36m  Cell \u001b[1;32mIn[17], line 5\u001b[1;36m\u001b[0m\n\u001b[1;33m    print(f'{a} is neither positive nor negative)\u001b[0m\n\u001b[1;37m          ^\u001b[0m\n\u001b[1;31mSyntaxError\u001b[0m\u001b[1;31m:\u001b[0m unterminated string literal (detected at line 5)\n"
     ]
    }
   ],
   "source": [
    "if a > 0:\n",
    "    print(f'{a} is a positive number')\n",
    "    \n",
    "elif a == 0 :\n",
    "    print(f'{a} is neither positive nor negative)\n",
    "    \n",
    "else:\n",
    "    print(\"{} is a not a positive number\".format(a))"
   ]
  },
  {
   "cell_type": "code",
   "execution_count": 18,
   "id": "b0b2f2a8",
   "metadata": {},
   "outputs": [
    {
     "name": "stdout",
     "output_type": "stream",
     "text": [
      "0 is neither positive nor negative\n"
     ]
    }
   ],
   "source": [
    "if a > 0:\n",
    "    print(f'{a} is a positive number')\n",
    "    \n",
    "elif a == 0 :\n",
    "    print(f'{a} is neither positive nor negative')\n",
    "    \n",
    "else:\n",
    "    print(\"{} is a not a positive number\".format(a))"
   ]
  },
  {
   "cell_type": "code",
   "execution_count": null,
   "id": "b9c39fd3",
   "metadata": {},
   "outputs": [],
   "source": []
  },
  {
   "cell_type": "code",
   "execution_count": null,
   "id": "33ff3605",
   "metadata": {},
   "outputs": [],
   "source": [
    "# eg : find high positive and high negative num"
   ]
  },
  {
   "cell_type": "code",
   "execution_count": null,
   "id": "9927855c",
   "metadata": {},
   "outputs": [],
   "source": []
  },
  {
   "cell_type": "code",
   "execution_count": 43,
   "id": "8caeae0f",
   "metadata": {},
   "outputs": [
    {
     "name": "stdout",
     "output_type": "stream",
     "text": [
      "enter a number 4\n",
      "4 is a positive number\n"
     ]
    }
   ],
   "source": [
    "a = int(input(\"enter a number \"))\n",
    "\n",
    "if a > 0:    \n",
    "    if a > 70:\n",
    "        print(f'{a} is a large positive number')\n",
    "    else:\n",
    "        print(f'{a} is a positive number')\n",
    "    \n",
    "    \n",
    "elif a == 0 :\n",
    "    print(f'{a} is neither positive nor negative')\n",
    "    \n",
    "else:\n",
    "    if a < -50:\n",
    "        print(\"{} is a large negative number\".format(a))\n",
    "    else:\n",
    "        print(f'{a} is a negative number')"
   ]
  },
  {
   "cell_type": "code",
   "execution_count": null,
   "id": "71fe4160",
   "metadata": {},
   "outputs": [],
   "source": []
  }
 ],
 "metadata": {
  "kernelspec": {
   "display_name": "Python 3 (ipykernel)",
   "language": "python",
   "name": "python3"
  },
  "language_info": {
   "codemirror_mode": {
    "name": "ipython",
    "version": 3
   },
   "file_extension": ".py",
   "mimetype": "text/x-python",
   "name": "python",
   "nbconvert_exporter": "python",
   "pygments_lexer": "ipython3",
   "version": "3.10.7"
  }
 },
 "nbformat": 4,
 "nbformat_minor": 5
}
