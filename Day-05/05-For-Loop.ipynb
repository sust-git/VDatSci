{
 "cells": [
  {
   "cell_type": "markdown",
   "id": "b21a609f",
   "metadata": {},
   "source": [
    "# For Loop\n",
    "\n",
    "Syntax:\n",
    "\n",
    "```python\n",
    "for item in SEQUENCE:\n",
    "    DO SOMETHING\n",
    "```"
   ]
  },
  {
   "cell_type": "code",
   "execution_count": 1,
   "id": "0038fc8f",
   "metadata": {},
   "outputs": [],
   "source": [
    "a = [1,2,3,4]"
   ]
  },
  {
   "cell_type": "code",
   "execution_count": 2,
   "id": "64396e70",
   "metadata": {},
   "outputs": [],
   "source": [
    "# task: find the sum of given elements in the list"
   ]
  },
  {
   "cell_type": "code",
   "execution_count": null,
   "id": "a675b286",
   "metadata": {},
   "outputs": [],
   "source": []
  },
  {
   "cell_type": "code",
   "execution_count": 3,
   "id": "d644e398",
   "metadata": {},
   "outputs": [],
   "source": [
    "# note: don't use sum, its a keyword. So, use other name."
   ]
  },
  {
   "cell_type": "code",
   "execution_count": 15,
   "id": "c5da6add",
   "metadata": {},
   "outputs": [],
   "source": [
    "sums = 0\n",
    "\n",
    "for item in a:    \n",
    "    sums += item      #     sums = sums + item"
   ]
  },
  {
   "cell_type": "code",
   "execution_count": 10,
   "id": "dd8728c8",
   "metadata": {},
   "outputs": [
    {
     "name": "stdout",
     "output_type": "stream",
     "text": [
      "10\n"
     ]
    }
   ],
   "source": [
    "print(sums)"
   ]
  },
  {
   "cell_type": "code",
   "execution_count": null,
   "id": "ebf51a7b",
   "metadata": {},
   "outputs": [],
   "source": []
  },
  {
   "cell_type": "code",
   "execution_count": 12,
   "id": "53fa20d4",
   "metadata": {},
   "outputs": [],
   "source": [
    "# task: find the product of given elements in the list"
   ]
  },
  {
   "cell_type": "code",
   "execution_count": 13,
   "id": "83e7c57d",
   "metadata": {},
   "outputs": [],
   "source": [
    "prod = 1\n",
    "\n",
    "for item in a:    \n",
    "    prod *= item\n",
    "    "
   ]
  },
  {
   "cell_type": "code",
   "execution_count": 14,
   "id": "1b0886a7",
   "metadata": {},
   "outputs": [
    {
     "name": "stdout",
     "output_type": "stream",
     "text": [
      "24\n"
     ]
    }
   ],
   "source": [
    "print(prod)"
   ]
  },
  {
   "cell_type": "code",
   "execution_count": null,
   "id": "6bed7d12",
   "metadata": {},
   "outputs": [],
   "source": []
  },
  {
   "cell_type": "markdown",
   "id": "295c56dc",
   "metadata": {},
   "source": [
    "# Range Method"
   ]
  },
  {
   "cell_type": "code",
   "execution_count": 18,
   "id": "5e504051",
   "metadata": {},
   "outputs": [
    {
     "name": "stdout",
     "output_type": "stream",
     "text": [
      "0\n",
      "1\n",
      "2\n",
      "3\n",
      "4\n",
      "5\n",
      "6\n",
      "7\n",
      "8\n",
      "9\n"
     ]
    }
   ],
   "source": [
    "for num in range(10):\n",
    "    print(num)    "
   ]
  },
  {
   "cell_type": "code",
   "execution_count": 19,
   "id": "5e21f5ab",
   "metadata": {},
   "outputs": [],
   "source": [
    "# res: it starts with 0 and ends at n-1 item like index value"
   ]
  },
  {
   "cell_type": "code",
   "execution_count": null,
   "id": "fcbc5168",
   "metadata": {},
   "outputs": [],
   "source": []
  },
  {
   "cell_type": "code",
   "execution_count": 23,
   "id": "04246704",
   "metadata": {},
   "outputs": [],
   "source": [
    "# range(start, stop)\n",
    "# stop_item isn't included (exclusive)"
   ]
  },
  {
   "cell_type": "code",
   "execution_count": 22,
   "id": "f9ddc95a",
   "metadata": {},
   "outputs": [
    {
     "name": "stdout",
     "output_type": "stream",
     "text": [
      "5\n",
      "6\n",
      "7\n",
      "8\n",
      "9\n"
     ]
    }
   ],
   "source": [
    "for item in range(5,10):\n",
    "    print(item)"
   ]
  },
  {
   "cell_type": "code",
   "execution_count": null,
   "id": "32edca08",
   "metadata": {},
   "outputs": [],
   "source": []
  },
  {
   "cell_type": "code",
   "execution_count": 25,
   "id": "3b11d780",
   "metadata": {},
   "outputs": [],
   "source": [
    "# step in for loop\n",
    "\n",
    "# range(start, stop, step)"
   ]
  },
  {
   "cell_type": "code",
   "execution_count": 26,
   "id": "cd456a8b",
   "metadata": {},
   "outputs": [
    {
     "name": "stdout",
     "output_type": "stream",
     "text": [
      "0\n",
      "2\n",
      "4\n",
      "6\n",
      "8\n"
     ]
    }
   ],
   "source": [
    "for item in range(0,10,2):\n",
    "    print(item)"
   ]
  },
  {
   "cell_type": "code",
   "execution_count": null,
   "id": "02e93eca",
   "metadata": {},
   "outputs": [],
   "source": []
  },
  {
   "cell_type": "code",
   "execution_count": 27,
   "id": "0fbc9b12",
   "metadata": {},
   "outputs": [],
   "source": [
    "# task: calculate sum of number from 0 to 10 using range"
   ]
  },
  {
   "cell_type": "code",
   "execution_count": 32,
   "id": "681cb734",
   "metadata": {},
   "outputs": [
    {
     "name": "stdout",
     "output_type": "stream",
     "text": [
      "0\n",
      "1\n",
      "2\n",
      "3\n",
      "4\n",
      "5\n",
      "6\n",
      "7\n",
      "8\n",
      "9\n",
      "10\n"
     ]
    }
   ],
   "source": [
    "for item in range(11):    \n",
    "    print(item)"
   ]
  },
  {
   "cell_type": "code",
   "execution_count": 31,
   "id": "38f44b04",
   "metadata": {},
   "outputs": [
    {
     "name": "stdout",
     "output_type": "stream",
     "text": [
      "55\n"
     ]
    }
   ],
   "source": [
    "sums = 0\n",
    "for item in range(11):    \n",
    "    sums += item\n",
    "    \n",
    "    \n",
    "    \n",
    "print(sums)\n"
   ]
  },
  {
   "cell_type": "code",
   "execution_count": null,
   "id": "280354cf",
   "metadata": {},
   "outputs": [],
   "source": []
  },
  {
   "cell_type": "code",
   "execution_count": null,
   "id": "7aab0a86",
   "metadata": {},
   "outputs": [],
   "source": []
  },
  {
   "cell_type": "code",
   "execution_count": 34,
   "id": "81957916",
   "metadata": {},
   "outputs": [
    {
     "name": "stdout",
     "output_type": "stream",
     "text": [
      "0\n",
      "1\n",
      "2\n",
      "3\n",
      "4\n",
      "5\n",
      "6\n",
      "7\n",
      "8\n",
      "9\n"
     ]
    }
   ],
   "source": [
    "# which method is from 0 to 10?\n",
    "# above or below style?\n",
    "\n",
    "\n",
    "for item in range(10):    \n",
    "    print(item)"
   ]
  },
  {
   "cell_type": "code",
   "execution_count": 35,
   "id": "1ac8c9d9",
   "metadata": {},
   "outputs": [
    {
     "name": "stdout",
     "output_type": "stream",
     "text": [
      "45\n"
     ]
    }
   ],
   "source": [
    "sums = 0\n",
    "for item in range(10):    \n",
    "    sums += item\n",
    "    \n",
    "    \n",
    "    \n",
    "print(sums)"
   ]
  },
  {
   "cell_type": "code",
   "execution_count": null,
   "id": "0b99f3e3",
   "metadata": {},
   "outputs": [],
   "source": []
  },
  {
   "cell_type": "markdown",
   "id": "972833aa",
   "metadata": {},
   "source": [
    "# Stopping Loops\n",
    "\n",
    "- break"
   ]
  },
  {
   "cell_type": "code",
   "execution_count": 40,
   "id": "cc25aad7",
   "metadata": {},
   "outputs": [
    {
     "name": "stdout",
     "output_type": "stream",
     "text": [
      "0\n",
      "1\n",
      "2\n",
      "3\n",
      "4\n",
      "Let's stop here\n"
     ]
    }
   ],
   "source": [
    "for item in range(10):\n",
    "    if item == 5:\n",
    "        print(\"Let's stop here\")\n",
    "        break\n",
    "    print(item)"
   ]
  },
  {
   "cell_type": "code",
   "execution_count": null,
   "id": "f776fe22",
   "metadata": {},
   "outputs": [],
   "source": []
  },
  {
   "cell_type": "code",
   "execution_count": 51,
   "id": "91938445",
   "metadata": {},
   "outputs": [
    {
     "ename": "SyntaxError",
     "evalue": "invalid syntax. Perhaps you forgot a comma? (573577611.py, line 3)",
     "output_type": "error",
     "traceback": [
      "\u001b[1;36m  Cell \u001b[1;32mIn[51], line 3\u001b[1;36m\u001b[0m\n\u001b[1;33m    print('Let's stop here)\u001b[0m\n\u001b[1;37m          ^\u001b[0m\n\u001b[1;31mSyntaxError\u001b[0m\u001b[1;31m:\u001b[0m invalid syntax. Perhaps you forgot a comma?\n"
     ]
    }
   ],
   "source": [
    "for item in range(10):\n",
    "    if item == 5:\n",
    "        print('Let's stop here)\n",
    "        break\n",
    "    else:\n",
    "        print(item)\n",
    "        continue"
   ]
  },
  {
   "cell_type": "code",
   "execution_count": 50,
   "id": "781a06a1",
   "metadata": {},
   "outputs": [
    {
     "ename": "SyntaxError",
     "evalue": "unterminated string literal (detected at line 3) (995010124.py, line 3)",
     "output_type": "error",
     "traceback": [
      "\u001b[1;36m  Cell \u001b[1;32mIn[50], line 3\u001b[1;36m\u001b[0m\n\u001b[1;33m    print('Let\"s stop here)\u001b[0m\n\u001b[1;37m          ^\u001b[0m\n\u001b[1;31mSyntaxError\u001b[0m\u001b[1;31m:\u001b[0m unterminated string literal (detected at line 3)\n"
     ]
    }
   ],
   "source": [
    "for item in range(10):\n",
    "    if item == 5:\n",
    "        print('Let\"s stop here)\n",
    "        break\n",
    "    else:\n",
    "        print(item)\n",
    "        continue"
   ]
  },
  {
   "cell_type": "code",
   "execution_count": null,
   "id": "0de1cac9",
   "metadata": {},
   "outputs": [],
   "source": []
  },
  {
   "cell_type": "code",
   "execution_count": null,
   "id": "16412174",
   "metadata": {},
   "outputs": [],
   "source": [
    "# wrong practise apostrophe's"
   ]
  },
  {
   "cell_type": "code",
   "execution_count": 48,
   "id": "cc8cc103",
   "metadata": {},
   "outputs": [
    {
     "name": "stdout",
     "output_type": "stream",
     "text": [
      "0\n",
      "1\n",
      "2\n",
      "3\n",
      "4\n",
      "Let\"s stop here\n"
     ]
    }
   ],
   "source": [
    "for item in range(10):\n",
    "    if item == 5:\n",
    "        print('Let\"s stop here')\n",
    "        break\n",
    "    else:\n",
    "        print(item)\n",
    "        continue"
   ]
  },
  {
   "cell_type": "code",
   "execution_count": null,
   "id": "a49536f5",
   "metadata": {},
   "outputs": [],
   "source": []
  },
  {
   "cell_type": "code",
   "execution_count": 45,
   "id": "52d61a63",
   "metadata": {},
   "outputs": [],
   "source": [
    "# right practise apostrophe's"
   ]
  },
  {
   "cell_type": "code",
   "execution_count": 47,
   "id": "245daa07",
   "metadata": {},
   "outputs": [
    {
     "name": "stdout",
     "output_type": "stream",
     "text": [
      "0\n",
      "1\n",
      "2\n",
      "3\n",
      "4\n",
      "Let's stop here\n"
     ]
    }
   ],
   "source": [
    "for item in range(10):\n",
    "    if item == 5:\n",
    "        print(\"Let's stop here\")\n",
    "        break\n",
    "    else:\n",
    "        print(item)\n",
    "        continue"
   ]
  },
  {
   "cell_type": "code",
   "execution_count": 53,
   "id": "ee31ce86",
   "metadata": {},
   "outputs": [],
   "source": [
    "# res: yo case ma continue na rakhe ni kaam garxa"
   ]
  },
  {
   "cell_type": "code",
   "execution_count": null,
   "id": "3ea26c3d",
   "metadata": {},
   "outputs": [],
   "source": []
  }
 ],
 "metadata": {
  "kernelspec": {
   "display_name": "Python 3 (ipykernel)",
   "language": "python",
   "name": "python3"
  },
  "language_info": {
   "codemirror_mode": {
    "name": "ipython",
    "version": 3
   },
   "file_extension": ".py",
   "mimetype": "text/x-python",
   "name": "python",
   "nbconvert_exporter": "python",
   "pygments_lexer": "ipython3",
   "version": "3.10.7"
  }
 },
 "nbformat": 4,
 "nbformat_minor": 5
}
