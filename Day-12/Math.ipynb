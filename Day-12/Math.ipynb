{
 "cells": [
  {
   "cell_type": "code",
   "execution_count": null,
   "id": "83e0cd6d",
   "metadata": {},
   "outputs": [],
   "source": [
    "# there is difference betn module and package. as package is large"
   ]
  },
  {
   "cell_type": "code",
   "execution_count": null,
   "id": "91485af1",
   "metadata": {},
   "outputs": [],
   "source": []
  },
  {
   "cell_type": "code",
   "execution_count": null,
   "id": "46865514",
   "metadata": {},
   "outputs": [],
   "source": []
  },
  {
   "cell_type": "code",
   "execution_count": null,
   "id": "0cddd4b1",
   "metadata": {},
   "outputs": [],
   "source": []
  },
  {
   "cell_type": "code",
   "execution_count": 12,
   "id": "19d9463c",
   "metadata": {},
   "outputs": [],
   "source": [
    "import math"
   ]
  },
  {
   "cell_type": "code",
   "execution_count": null,
   "id": "0babcc87",
   "metadata": {},
   "outputs": [],
   "source": []
  },
  {
   "cell_type": "code",
   "execution_count": null,
   "id": "81efe2ec",
   "metadata": {},
   "outputs": [],
   "source": []
  },
  {
   "cell_type": "code",
   "execution_count": 9,
   "id": "860e2a73",
   "metadata": {},
   "outputs": [
    {
     "name": "stdout",
     "output_type": "stream",
     "text": [
      "8.0\n",
      "7.0\n",
      "5\n",
      "-5\n",
      "-4\n",
      "4.9\n"
     ]
    }
   ],
   "source": [
    "print(math.pow(2,3))\n",
    "print(math.sqrt(49))\n",
    "print(math.ceil(4.1))\n",
    "print(math.floor(-4.9))\n",
    "print(math.trunc(-4.9))\n",
    "print(math.fabs(-4.9))"
   ]
  },
  {
   "cell_type": "code",
   "execution_count": null,
   "id": "66f30d6f",
   "metadata": {},
   "outputs": [],
   "source": []
  },
  {
   "cell_type": "code",
   "execution_count": null,
   "id": "e0bc7c4b",
   "metadata": {},
   "outputs": [],
   "source": []
  },
  {
   "cell_type": "code",
   "execution_count": 11,
   "id": "16ff2d27",
   "metadata": {},
   "outputs": [],
   "source": [
    "from math import pow     # direct importing a part of module"
   ]
  },
  {
   "cell_type": "code",
   "execution_count": 8,
   "id": "225832f0",
   "metadata": {},
   "outputs": [
    {
     "data": {
      "text/plain": [
       "16.0"
      ]
     },
     "execution_count": 8,
     "metadata": {},
     "output_type": "execute_result"
    }
   ],
   "source": [
    "pow(4,2)"
   ]
  },
  {
   "cell_type": "code",
   "execution_count": null,
   "id": "b883f5fa",
   "metadata": {},
   "outputs": [],
   "source": []
  },
  {
   "cell_type": "code",
   "execution_count": null,
   "id": "65274d71",
   "metadata": {},
   "outputs": [],
   "source": []
  },
  {
   "cell_type": "code",
   "execution_count": 14,
   "id": "0dde4c46",
   "metadata": {},
   "outputs": [
    {
     "name": "stdout",
     "output_type": "stream",
     "text": [
      "1.0\n",
      "6.123233995736766e-17\n",
      "1.633123935319537e+16\n",
      "3.141592653589793\n",
      "90.0\n",
      "5.0\n"
     ]
    }
   ],
   "source": [
    "print(math.sin(math.pi/2))\n",
    "print(math.cos(math.pi/2))\n",
    "print(math.tan(math.pi/2))\n",
    "print(math.radians(180))\n",
    "print(math.degrees(math.pi/2))\n",
    "print(math.hypot(3,4))"
   ]
  },
  {
   "cell_type": "code",
   "execution_count": null,
   "id": "53df207b",
   "metadata": {},
   "outputs": [],
   "source": []
  },
  {
   "cell_type": "code",
   "execution_count": 17,
   "id": "1ae78716",
   "metadata": {},
   "outputs": [
    {
     "name": "stdout",
     "output_type": "stream",
     "text": [
      "2.718281828459045\n",
      "inf\n",
      "6.283185307179586\n",
      "nan\n"
     ]
    }
   ],
   "source": [
    "print(math.e)\n",
    "print(math.inf)\n",
    "print(math.tau)\n",
    "print(math.nan)"
   ]
  },
  {
   "cell_type": "code",
   "execution_count": null,
   "id": "0e8849b2",
   "metadata": {},
   "outputs": [],
   "source": []
  },
  {
   "cell_type": "code",
   "execution_count": null,
   "id": "9759b270",
   "metadata": {},
   "outputs": [],
   "source": []
  },
  {
   "cell_type": "code",
   "execution_count": 15,
   "id": "c2bd4c8c",
   "metadata": {},
   "outputs": [],
   "source": [
    "# special fxn\n"
   ]
  },
  {
   "cell_type": "code",
   "execution_count": 18,
   "id": "cbbda668",
   "metadata": {},
   "outputs": [
    {
     "name": "stdout",
     "output_type": "stream",
     "text": [
      "120\n",
      "10\n",
      "True\n",
      "3\n",
      "5.196152422706632\n",
      "0.5204998778130465\n",
      "24.0\n",
      "60\n"
     ]
    }
   ],
   "source": [
    "print(math.factorial(5))\n",
    "print(math.comb(5,2))\n",
    "print(math.isclose(0.1 + 0.2, 0.3))    # is aaune bittikai condn check hunxa program\n",
    "print(math.isqrt(15))\n",
    "p = (1, 2, 3)\n",
    "q = (4 ,5, 6)\n",
    "print(math.dist(p,q))    # euclidian distance\n",
    "print(math.erf(0.5))     # error\n",
    "print(math.gamma(5))     # higer derivative or integration fxn\n",
    "print(math.perm(5,3))"
   ]
  },
  {
   "cell_type": "code",
   "execution_count": null,
   "id": "0853dacd",
   "metadata": {},
   "outputs": [],
   "source": [
    "# math is small libreary, big package are built using this library"
   ]
  },
  {
   "cell_type": "code",
   "execution_count": 19,
   "id": "ae060cfa",
   "metadata": {},
   "outputs": [],
   "source": [
    "# things to know\n",
    "# OS module"
   ]
  },
  {
   "cell_type": "code",
   "execution_count": null,
   "id": "c2a08be6",
   "metadata": {},
   "outputs": [],
   "source": [
    "\n",
    "# 3 random method\n"
   ]
  }
 ],
 "metadata": {
  "kernelspec": {
   "display_name": "Python 3 (ipykernel)",
   "language": "python",
   "name": "python3"
  },
  "language_info": {
   "codemirror_mode": {
    "name": "ipython",
    "version": 3
   },
   "file_extension": ".py",
   "mimetype": "text/x-python",
   "name": "python",
   "nbconvert_exporter": "python",
   "pygments_lexer": "ipython3",
   "version": "3.10.7"
  }
 },
 "nbformat": 4,
 "nbformat_minor": 5
}
